{
 "cells": [
  {
   "cell_type": "markdown",
   "metadata": {},
   "source": []
  },
  {
   "cell_type": "code",
   "execution_count": 1,
   "metadata": {},
   "outputs": [],
   "source": [
    "# this cell enables relative path imports\n",
    "import os\n",
    "from dotenv import load_dotenv\n",
    "import pickle\n",
    "load_dotenv()\n",
    "_PROJECT_PATH: str = os.environ[\"_project_path\"]\n",
    "_PICKLED_DATA_FILENAME: str = os.environ[\"_pickled_data_filename\"]\n",
    "_CSV_DATA_FILENAME: str = os.environ[\"_csv_data_filename\"]\n",
    "\n",
    "\n",
    "\n",
    "import sys\n",
    "from pathlib import Path\n",
    "project_path = Path(_PROJECT_PATH)\n",
    "sys.path.append(str(project_path))"
   ]
  },
  {
   "cell_type": "code",
   "execution_count": 2,
   "metadata": {},
   "outputs": [
    {
     "name": "stdout",
     "output_type": "stream",
     "text": [
      "Baseline en config_v2.py: ['2025-01-01', '2025-05-11']\n",
      "Study en config_v2.py: ['2025-05-05', '2025-05-11']\n"
     ]
    }
   ],
   "source": [
    "# import all your modules here\n",
    "import time\n",
    "import json\n",
    "import pandas as pd\n",
    "\n",
    "import config_v2 as cfg\n",
    "from library_ubidots_v2 import Ubidots as ubi"
   ]
  },
  {
   "cell_type": "code",
   "execution_count": 3,
   "metadata": {},
   "outputs": [],
   "source": [
    "#blob_name = r\"data/data_weekly_report.pkl\"\n",
    "#downloader.upload_pkl_file(bancolombia_pkl,blob_name, blob_container)"
   ]
  },
  {
   "cell_type": "code",
   "execution_count": 4,
   "metadata": {},
   "outputs": [],
   "source": [
    "# set your constants here\n",
    "baseline=cfg.BASELINE\n",
    "study=cfg.STUDY\n",
    "#study = ['2025-01-01', '2025-02-01']"
   ]
  },
  {
   "cell_type": "code",
   "execution_count": 5,
   "metadata": {},
   "outputs": [
    {
     "name": "stdout",
     "output_type": "stream",
     "text": [
      "['2025-05-05', '2025-05-11']\n",
      "['2025-01-01', '2025-05-11']\n"
     ]
    }
   ],
   "source": [
    "print(study)\n",
    "print(baseline)"
   ]
  },
  {
   "cell_type": "code",
   "execution_count": 6,
   "metadata": {},
   "outputs": [],
   "source": [
    "df_devices = ubi.get_available_devices_v2(label='bancolombia-f2', level='group', page_size=1000)\n",
    "df_vars = ubi.get_available_variables(list(df_devices['device_id']))"
   ]
  },
  {
   "cell_type": "code",
   "execution_count": 7,
   "metadata": {},
   "outputs": [],
   "source": [
    "#df_vars = ubi.get_available_variables(['67b736cf7768142929f1f1f9'])"
   ]
  },
  {
   "cell_type": "code",
   "execution_count": 8,
   "metadata": {},
   "outputs": [],
   "source": [
    "df_vars = df_vars[df_vars['variable_label'].isin(cfg.WHITELISTED_VAR_LABELS)]\n",
    "VAR_IDS_TO_REQUEST = list(df_vars['variable_id'])\n",
    "VAR_ID_TO_LABEL = dict(zip(df_vars['variable_id'], df_vars['variable_label']))"
   ]
  },
  {
   "cell_type": "code",
   "execution_count": 9,
   "metadata": {},
   "outputs": [],
   "source": [
    "#leer el archivo data_weekly_report.pkl y guardarlo en un dataframe llamado df1\n",
    "df1 = pd.read_pickle(r'C:\\Digitalización\\Bancolombia\\CB_informe_Fase_2\\data\\data_weekly_report.pkl')\n"
   ]
  },
  {
   "cell_type": "code",
   "execution_count": 10,
   "metadata": {},
   "outputs": [
    {
     "name": "stdout",
     "output_type": "stream",
     "text": [
      "<class 'pandas.core.frame.DataFrame'>\n",
      "DatetimeIndex: 31459983 entries, 2024-10-07 00:00:00-05:00 to 2025-04-28 00:00:00-05:00\n",
      "Data columns (total 4 columns):\n",
      " #   Column       Dtype  \n",
      "---  ------       -----  \n",
      " 0   value        float64\n",
      " 1   variable     object \n",
      " 2   device       object \n",
      " 3   device_name  object \n",
      "dtypes: float64(1), object(3)\n",
      "memory usage: 1.2+ GB\n"
     ]
    }
   ],
   "source": [
    "df1.info()"
   ]
  },
  {
   "cell_type": "code",
   "execution_count": 11,
   "metadata": {},
   "outputs": [
    {
     "name": "stdout",
     "output_type": "stream",
     "text": [
      "Making request for the following interval: Study:2025-05-05, Study:2025-05-11\n",
      "Progress: 2.5%\n",
      "Response status code: 200\n",
      "Progress: 4.8%\n",
      "Response status code: 200\n",
      "Progress: 7.0%\n",
      "Response status code: 200\n",
      "Progress: 9.3%\n",
      "Response status code: 200\n",
      "Progress: 11.6%\n",
      "Response status code: 200\n",
      "Progress: 13.8%\n",
      "Response status code: 200\n",
      "Progress: 16.1%\n",
      "Response status code: 200\n",
      "Progress: 18.4%\n",
      "Response status code: 200\n",
      "Progress: 20.6%\n",
      "Response status code: 200\n",
      "Progress: 22.9%\n",
      "Response status code: 200\n",
      "Progress: 25.2%\n",
      "Response status code: 200\n",
      "Progress: 27.4%\n",
      "Response status code: 200\n",
      "Progress: 29.7%\n",
      "Response status code: 200\n",
      "Progress: 32.0%\n",
      "Response status code: 200\n",
      "Progress: 34.2%\n",
      "Response status code: 200\n",
      "Progress: 36.5%\n",
      "Response status code: 200\n",
      "Progress: 38.8%\n",
      "Response status code: 200\n",
      "Progress: 41.0%\n",
      "Response status code: 200\n",
      "Progress: 43.3%\n",
      "Response status code: 200\n",
      "Progress: 45.6%\n",
      "Response status code: 200\n",
      "Progress: 47.8%\n",
      "Response status code: 200\n",
      "Progress: 50.1%\n",
      "Response status code: 200\n",
      "Progress: 52.4%\n",
      "Response status code: 200\n",
      "Progress: 54.6%\n",
      "Response status code: 200\n",
      "Progress: 56.9%\n",
      "Response status code: 200\n",
      "Progress: 59.2%\n",
      "Response status code: 200\n",
      "Progress: 61.5%\n",
      "Response status code: 200\n",
      "Progress: 63.7%\n",
      "Response status code: 200\n",
      "Progress: 66.0%\n",
      "Response status code: 200\n",
      "Progress: 68.3%\n",
      "Response status code: 200\n",
      "Progress: 70.5%\n",
      "Response status code: 200\n",
      "Progress: 72.8%\n",
      "Response status code: 200\n",
      "Progress: 75.1%\n",
      "Response status code: 200\n",
      "Progress: 77.3%\n",
      "Response status code: 200\n",
      "Progress: 79.6%\n",
      "Response status code: 200\n",
      "Progress: 81.9%\n",
      "Response status code: 200\n",
      "Progress: 84.1%\n",
      "Response status code: 200\n",
      "Progress: 86.4%\n",
      "Response status code: 200\n",
      "Progress: 88.7%\n",
      "Response status code: 200\n",
      "Progress: 90.9%\n",
      "Response status code: 200\n",
      "Progress: 93.2%\n",
      "Response status code: 200\n",
      "Progress: 95.5%\n",
      "Response status code: 200\n",
      "Progress: 97.7%\n",
      "Response status code: 200\n",
      "Progress: 100.0%\n",
      "Response status code: 200\n",
      "Progress: 100.0%\n",
      "Response status code: 200\n"
     ]
    }
   ],
   "source": [
    "CHUNK_SIZE = 10\n",
    "DATE_INTERVAL_REQUEST = {'start': study[0], 'end': study[1]}\n",
    "df = None\n",
    "lst_responses = []\n",
    "n_vars = len(VAR_IDS_TO_REQUEST)\n",
    "print(f\"Making request for the following interval: Study:{study[0]}, Study:{study[1]}\")\n",
    "for idx in range(0, ubi.ceildiv(len(VAR_IDS_TO_REQUEST), CHUNK_SIZE)):\n",
    "    idx_start = idx * CHUNK_SIZE\n",
    "    idx_end = (idx + 1) * CHUNK_SIZE\n",
    "    chunk = VAR_IDS_TO_REQUEST[idx_start:idx_end]\n",
    "    response = ubi.make_request(\n",
    "        chunk, \n",
    "        DATE_INTERVAL_REQUEST, \n",
    "    )\n",
    "    if response.status_code == 204 or response.status_code >= 500:\n",
    "        print(f\"Empty response for chunk {idx}\")\n",
    "        time.sleep(10)\n",
    "        response = ubi.make_request(\n",
    "        chunk, \n",
    "        DATE_INTERVAL_REQUEST,)\n",
    "    current_idx = idx_end+1\n",
    "    if (current_idx > n_vars):\n",
    "        current_idx = n_vars\n",
    "    print(f\"Progress: {100*(current_idx)/n_vars:0.1f}%\")\n",
    "    print(f\"Response status code: {response.status_code}\")\n",
    "    if (response.status_code != 204) and  (len(response.json()['results']) >0 ):\n",
    "        lst_responses.append(response)\n",
    "    else: \n",
    "        print(f\"Empty response for chunk {idx}\")\n",
    "df = ubi.parse_response(lst_responses, VAR_ID_TO_LABEL)"
   ]
  },
  {
   "cell_type": "code",
   "execution_count": 12,
   "metadata": {},
   "outputs": [],
   "source": [
    "#Unir el dataframe dfprogress: 30.5%Response status code: 200Progress: 34.8%Response status code: 200Progress: 39.1%Response status code: 200Progress: 43.3%Response status code: 200 y df1 en uno que se llame df_full / esto es para mas adelante\n",
    "df = pd.concat([df1, df], axis=0, ignore_index=False)\n",
    "\n",
    "# para quitar el indixe de \"datatime\" y volverlo columna \n",
    "df.reset_index(inplace=True)\n",
    "\n",
    "# Quitar duplicados \n",
    "df = df.drop_duplicates()\n",
    "\n",
    "# Establecer la columna \"datetime\" como el índice\n",
    "df.set_index('datetime', inplace=True)\n"
   ]
  },
  {
   "cell_type": "code",
   "execution_count": 13,
   "metadata": {},
   "outputs": [],
   "source": [
    "pd.to_pickle(df, project_path / 'data'/ _PICKLED_DATA_FILENAME)"
   ]
  },
  {
   "cell_type": "code",
   "execution_count": 14,
   "metadata": {},
   "outputs": [
    {
     "data": {
      "text/plain": [
       "DatetimeIndex(['2025-01-07 00:00:00-05:00', '2025-01-06 23:57:00-05:00',\n",
       "               '2025-01-06 23:54:00-05:00', '2025-01-06 23:51:00-05:00',\n",
       "               '2025-01-06 23:48:00-05:00', '2025-01-06 23:45:00-05:00',\n",
       "               '2025-01-06 23:42:00-05:00', '2025-01-06 23:39:00-05:00',\n",
       "               '2025-01-06 23:36:00-05:00', '2025-01-06 23:33:00-05:00',\n",
       "               ...\n",
       "               '2025-01-27 01:05:00-05:00', '2025-01-27 00:55:00-05:00',\n",
       "               '2025-01-27 00:50:00-05:00', '2025-01-27 00:40:00-05:00',\n",
       "               '2025-01-27 00:35:00-05:00', '2025-01-27 00:25:00-05:00',\n",
       "               '2025-01-27 00:20:00-05:00', '2025-01-27 00:10:00-05:00',\n",
       "               '2025-01-27 00:05:00-05:00', '2025-01-28 16:57:01-05:00'],\n",
       "              dtype='datetime64[ns, America/Bogota]', name='datetime', length=24491, freq=None)"
      ]
     },
     "execution_count": 14,
     "metadata": {},
     "output_type": "execute_result"
    }
   ],
   "source": [
    "df.index[(df.index.month == 1)&(df.index.year == 2025)].unique()"
   ]
  },
  {
   "cell_type": "code",
   "execution_count": null,
   "metadata": {},
   "outputs": [],
   "source": []
  }
 ],
 "metadata": {
  "kernelspec": {
   "display_name": "bancolombia",
   "language": "python",
   "name": "python3"
  },
  "language_info": {
   "codemirror_mode": {
    "name": "ipython",
    "version": 3
   },
   "file_extension": ".py",
   "mimetype": "text/x-python",
   "name": "python",
   "nbconvert_exporter": "python",
   "pygments_lexer": "ipython3",
   "version": "3.9.18"
  },
  "orig_nbformat": 4
 },
 "nbformat": 4,
 "nbformat_minor": 2
}
