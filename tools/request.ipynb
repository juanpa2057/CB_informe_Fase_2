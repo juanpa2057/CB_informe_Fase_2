{
 "cells": [
  {
   "cell_type": "markdown",
   "metadata": {},
   "source": []
  },
  {
   "cell_type": "code",
   "execution_count": 1,
   "metadata": {},
   "outputs": [],
   "source": [
    "# this cell enables relative path imports\n",
    "import os\n",
    "from dotenv import load_dotenv\n",
    "import pickle\n",
    "load_dotenv()\n",
    "_PROJECT_PATH: str = os.environ[\"_project_path\"]\n",
    "_PICKLED_DATA_FILENAME: str = os.environ[\"_pickled_data_filename\"]\n",
    "#_CSV_DATA_FILENAME: str = os.environ[\"_csv_data_filename\"]\n",
    "\n",
    "\n",
    "\n",
    "import sys\n",
    "from pathlib import Path\n",
    "project_path = Path(_PROJECT_PATH)\n",
    "sys.path.append(str(project_path))"
   ]
  },
  {
   "cell_type": "code",
   "execution_count": 2,
   "metadata": {},
   "outputs": [
    {
     "name": "stdout",
     "output_type": "stream",
     "text": [
      "Baseline en config_v2.py: ['2025-05-01', '2025-08-25']\n",
      "Study en config_v2.py: ['2025-08-25', '2025-09-01']\n"
     ]
    }
   ],
   "source": [
    "# import all your modules here\n",
    "import time\n",
    "import json\n",
    "import pandas as pd\n",
    "\n",
    "import config_v2 as cfg\n",
    "from library_ubidots_v2 import Ubidots as ubi"
   ]
  },
  {
   "cell_type": "code",
   "execution_count": 3,
   "metadata": {},
   "outputs": [],
   "source": [
    "#blob_name = r\"data/data_weekly_report.pkl\"\n",
    "#downloader.upload_pkl_file(bancolombia_pkl,blob_name, blob_container)"
   ]
  },
  {
   "cell_type": "code",
   "execution_count": 4,
   "metadata": {},
   "outputs": [],
   "source": [
    "# set your constants here\n",
    "baseline=cfg.BASELINE\n",
    "study=cfg.STUDY\n",
    "#study = ['2025-01-01', '2025-02-01']"
   ]
  },
  {
   "cell_type": "code",
   "execution_count": 5,
   "metadata": {},
   "outputs": [
    {
     "name": "stdout",
     "output_type": "stream",
     "text": [
      "['2025-08-25', '2025-09-01']\n",
      "['2025-05-01', '2025-08-25']\n"
     ]
    }
   ],
   "source": [
    "print(study)\n",
    "print(baseline)"
   ]
  },
  {
   "cell_type": "code",
   "execution_count": 6,
   "metadata": {},
   "outputs": [],
   "source": [
    "df_devices = ubi.get_available_devices_v2(label='bancolombia-f2', level='group', page_size=1000)\n",
    "df_vars = ubi.get_available_variables(list(df_devices['device_id']))"
   ]
  },
  {
   "cell_type": "code",
   "execution_count": 7,
   "metadata": {},
   "outputs": [
    {
     "data": {
      "application/vnd.microsoft.datawrangler.viewer.v0+json": {
       "columns": [
        {
         "name": "index",
         "rawType": "int64",
         "type": "integer"
        },
        {
         "name": "device_name",
         "rawType": "object",
         "type": "string"
        },
        {
         "name": "device_label",
         "rawType": "object",
         "type": "string"
        },
        {
         "name": "device_id",
         "rawType": "object",
         "type": "string"
        }
       ],
       "ref": "14ede1f3-cca4-46ba-a789-ef582f24beed",
       "rows": [
        [
         "0",
         "BC 83 - Miramar",
         "bc-83---miramar",
         "67d1c0f06fc439000ea25671"
        ],
        [
         "1",
         "BC 795 - Cañaveral",
         "bc-795---canaveral",
         "67b73809266c0f2abaa4dd54"
        ],
        [
         "2",
         "BC 322 - San Gil",
         "bc-322---san-gil",
         "67b737d619aa0e22e0e5f84e"
        ],
        [
         "3",
         "BC 325 - Santuario",
         "bc-325---santuario",
         "67b7376ddbb3442aff4eab47"
        ],
        [
         "4",
         "BC 43 - Puente Aranda",
         "bc-43---puente-aranda",
         "67b73749d50da42a53390cf2"
        ],
        [
         "5",
         "BC 602 - UGI",
         "bc-602---ugi",
         "67b7371fdbb3442c70975d96"
        ],
        [
         "6",
         "BC 68 - Ibague",
         "bc-68---ibague",
         "67b736f57768142929f1f1fa"
        ],
        [
         "7",
         "BC 57 - Villavicencio Principal",
         "bc-57---villavicencio-principal",
         "67b736cf7768142929f1f1f9"
        ],
        [
         "8",
         "BC - Metropolitan",
         "bc---metropolitan",
         "668eac0c4e426c000d962c8d"
        ],
        [
         "9",
         "BC - Jardin Plaza",
         "bc---jardin-plaza",
         "6644d727097b8c000d7da004"
        ],
        [
         "10",
         "BC 415 - El Retiro",
         "bc-415---el-retiro",
         "6644d70220fb04000b1b23c3"
        ],
        [
         "11",
         "BC 334 - El Peñol",
         "bc-334---el-penol",
         "6644d6daf3a04308edb9e388"
        ],
        [
         "12",
         "BC 673 - Calle 80",
         "bc-673---calle-80",
         "6644d6b8703aeb0744d6fde3"
        ],
        [
         "13",
         "BC 892 - La Vega",
         "bc-892---la-vega",
         "6644d693dc8cc1000d329f53"
        ],
        [
         "14",
         "BC 138 - Mosquera",
         "bc-138---mosquera",
         "663b88de0ef6012a4ba136c9"
        ],
        [
         "15",
         "BC 385 - Villeta",
         "bc-385---villeta",
         "663b88bf1a0f7f255ace064d"
        ],
        [
         "16",
         "BC 221 - Soacha",
         "bc-221---soacha",
         "663b889d06a67b292f6c5a98"
        ],
        [
         "17",
         "BC 479 - Pamplona",
         "bc-479---pamplona",
         "663b886a2ac0a42ac93d8895"
        ],
        [
         "18",
         "BC 832 - San Francisco de Paula",
         "bc-832---cucuta",
         "663b8840d74c45271288d129"
        ],
        [
         "19",
         "BC 461 - La carolina Unicentro",
         "bc-461---la-carolina-unicentro",
         "663b87aa0ef601287d5aef5f"
        ],
        [
         "20",
         "BC 79 - La Quinta Ibague",
         "bc-79---ibague",
         "663b86ff8b9950251c9d20c1"
        ],
        [
         "21",
         "BC 619 - Plaza del Bosque Ibague",
         "bc-619---plaza-del-bosque-ibague",
         "663b868b8b0d7c294bb8d082"
        ],
        [
         "22",
         "BC 73 - Pereira",
         "bc-73---pereira",
         "65ccd16c196573000b250466"
        ],
        [
         "23",
         "BC 733 - La Unión Valle",
         "bc-733-3---la-union-valle",
         "65ba83daadd3fb000b077fd7"
        ],
        [
         "24",
         "BC 772 - Caicedonia",
         "bc-772---caicedonia",
         "65b01039bd7602000cc5863a"
        ],
        [
         "25",
         "BC 583 - Riosucio",
         "bc-583---riosucio",
         "65b00f8d74bcdc000e44adf2"
        ],
        [
         "26",
         "BC 115 - Circunvalar Pereira",
         "bc-115---circunvalar-pereira",
         "65b00eca8e33ec000b46fd2c"
        ],
        [
         "27",
         "BC 265 - Valle de Lili",
         "bc-265---valle-de-lili",
         "65b00dd5bd7602000ed3b021"
        ],
        [
         "28",
         "BC  687 - Planeta Rica",
         "bc-687---planeta-rica",
         "65b00cf4363675000c7be25b"
        ],
        [
         "29",
         "BC 513 - El Dificil",
         "bc-513---el-dificil",
         "65b00c444e1f00000b218fe2"
        ],
        [
         "30",
         "BC 111 - Corozal",
         "bc-111---corozal",
         "65b00bbd9618a0000d33d347"
        ],
        [
         "31",
         "BC 681 - Cerete",
         "bc-681---cerete",
         "65b00b8b74bcdc000d8b671c"
        ],
        [
         "32",
         "BC 516 - Santa Marta",
         "bc-516---santa-marta",
         "65b00a5c4e1f00000e7d7163"
        ],
        [
         "33",
         "BC 517 - El Rodadero",
         "bc-517---el-rodadero",
         "65b00997363675000db422df"
        ],
        [
         "34",
         "BC 781 - Prado Plaza",
         "bc-781---prado-plaza",
         "65b00917c1bd04000d0d96a7"
        ],
        [
         "35",
         "BC 775 - Bulevar 54",
         "bc-775---bulevar-54",
         "65b008b4d77fef000d0c2444"
        ],
        [
         "36",
         "BC 554 - Mall Plaza Buenavista",
         "bc-554---mall-plaza-buenavista",
         "65b00877363675000db422de"
        ],
        [
         "37",
         "BC 777 - Parque Washington",
         "bc-777---parque-washington",
         "65b008049618a0000d33d346"
        ],
        [
         "38",
         "BC 478 - Mix Vía 40",
         "bc-478---mix-via-40",
         "65b007c2f722b1000bd997f9"
        ],
        [
         "39",
         "BC 81 - Avenida Kennedy",
         "bc-81---avenida-kennedy",
         "65b00756bd7602000b6876b8"
        ],
        [
         "40",
         "BC 388 - CC Hayuelos",
         "bc90t",
         "6488bd6c6d9fda000c2959c8"
        ],
        [
         "41",
         "BC 384 - Anapoima",
         "bc89t",
         "6488bd626d9fda000e29786d"
        ],
        [
         "42",
         "BC 332 - Zipaquira",
         "bc88t",
         "6488bd56874ff70010ba4844"
        ],
        [
         "43",
         "BC 802 - Puerto Lopez",
         "bc85t",
         "6488bd2d031607000fc3aa8c"
        ],
        [
         "44",
         "BC 367 - Granada Meta",
         "bc84t",
         "6488bd22dbb227000ba6eb55"
        ],
        [
         "45",
         "BC 689 - Metropolis",
         "bc80t",
         "6488bcaf874ff7000ec039ef"
        ]
       ],
       "shape": {
        "columns": 3,
        "rows": 46
       }
      },
      "text/html": [
       "<div>\n",
       "<style scoped>\n",
       "    .dataframe tbody tr th:only-of-type {\n",
       "        vertical-align: middle;\n",
       "    }\n",
       "\n",
       "    .dataframe tbody tr th {\n",
       "        vertical-align: top;\n",
       "    }\n",
       "\n",
       "    .dataframe thead th {\n",
       "        text-align: right;\n",
       "    }\n",
       "</style>\n",
       "<table border=\"1\" class=\"dataframe\">\n",
       "  <thead>\n",
       "    <tr style=\"text-align: right;\">\n",
       "      <th></th>\n",
       "      <th>device_name</th>\n",
       "      <th>device_label</th>\n",
       "      <th>device_id</th>\n",
       "    </tr>\n",
       "  </thead>\n",
       "  <tbody>\n",
       "    <tr>\n",
       "      <th>0</th>\n",
       "      <td>BC 83 - Miramar</td>\n",
       "      <td>bc-83---miramar</td>\n",
       "      <td>67d1c0f06fc439000ea25671</td>\n",
       "    </tr>\n",
       "    <tr>\n",
       "      <th>1</th>\n",
       "      <td>BC 795 - Cañaveral</td>\n",
       "      <td>bc-795---canaveral</td>\n",
       "      <td>67b73809266c0f2abaa4dd54</td>\n",
       "    </tr>\n",
       "    <tr>\n",
       "      <th>2</th>\n",
       "      <td>BC 322 - San Gil</td>\n",
       "      <td>bc-322---san-gil</td>\n",
       "      <td>67b737d619aa0e22e0e5f84e</td>\n",
       "    </tr>\n",
       "    <tr>\n",
       "      <th>3</th>\n",
       "      <td>BC 325 - Santuario</td>\n",
       "      <td>bc-325---santuario</td>\n",
       "      <td>67b7376ddbb3442aff4eab47</td>\n",
       "    </tr>\n",
       "    <tr>\n",
       "      <th>4</th>\n",
       "      <td>BC 43 - Puente Aranda</td>\n",
       "      <td>bc-43---puente-aranda</td>\n",
       "      <td>67b73749d50da42a53390cf2</td>\n",
       "    </tr>\n",
       "    <tr>\n",
       "      <th>5</th>\n",
       "      <td>BC 602 - UGI</td>\n",
       "      <td>bc-602---ugi</td>\n",
       "      <td>67b7371fdbb3442c70975d96</td>\n",
       "    </tr>\n",
       "    <tr>\n",
       "      <th>6</th>\n",
       "      <td>BC 68 - Ibague</td>\n",
       "      <td>bc-68---ibague</td>\n",
       "      <td>67b736f57768142929f1f1fa</td>\n",
       "    </tr>\n",
       "    <tr>\n",
       "      <th>7</th>\n",
       "      <td>BC 57 - Villavicencio Principal</td>\n",
       "      <td>bc-57---villavicencio-principal</td>\n",
       "      <td>67b736cf7768142929f1f1f9</td>\n",
       "    </tr>\n",
       "    <tr>\n",
       "      <th>8</th>\n",
       "      <td>BC - Metropolitan</td>\n",
       "      <td>bc---metropolitan</td>\n",
       "      <td>668eac0c4e426c000d962c8d</td>\n",
       "    </tr>\n",
       "    <tr>\n",
       "      <th>9</th>\n",
       "      <td>BC - Jardin Plaza</td>\n",
       "      <td>bc---jardin-plaza</td>\n",
       "      <td>6644d727097b8c000d7da004</td>\n",
       "    </tr>\n",
       "    <tr>\n",
       "      <th>10</th>\n",
       "      <td>BC 415 - El Retiro</td>\n",
       "      <td>bc-415---el-retiro</td>\n",
       "      <td>6644d70220fb04000b1b23c3</td>\n",
       "    </tr>\n",
       "    <tr>\n",
       "      <th>11</th>\n",
       "      <td>BC 334 - El Peñol</td>\n",
       "      <td>bc-334---el-penol</td>\n",
       "      <td>6644d6daf3a04308edb9e388</td>\n",
       "    </tr>\n",
       "    <tr>\n",
       "      <th>12</th>\n",
       "      <td>BC 673 - Calle 80</td>\n",
       "      <td>bc-673---calle-80</td>\n",
       "      <td>6644d6b8703aeb0744d6fde3</td>\n",
       "    </tr>\n",
       "    <tr>\n",
       "      <th>13</th>\n",
       "      <td>BC 892 - La Vega</td>\n",
       "      <td>bc-892---la-vega</td>\n",
       "      <td>6644d693dc8cc1000d329f53</td>\n",
       "    </tr>\n",
       "    <tr>\n",
       "      <th>14</th>\n",
       "      <td>BC 138 - Mosquera</td>\n",
       "      <td>bc-138---mosquera</td>\n",
       "      <td>663b88de0ef6012a4ba136c9</td>\n",
       "    </tr>\n",
       "    <tr>\n",
       "      <th>15</th>\n",
       "      <td>BC 385 - Villeta</td>\n",
       "      <td>bc-385---villeta</td>\n",
       "      <td>663b88bf1a0f7f255ace064d</td>\n",
       "    </tr>\n",
       "    <tr>\n",
       "      <th>16</th>\n",
       "      <td>BC 221 - Soacha</td>\n",
       "      <td>bc-221---soacha</td>\n",
       "      <td>663b889d06a67b292f6c5a98</td>\n",
       "    </tr>\n",
       "    <tr>\n",
       "      <th>17</th>\n",
       "      <td>BC 479 - Pamplona</td>\n",
       "      <td>bc-479---pamplona</td>\n",
       "      <td>663b886a2ac0a42ac93d8895</td>\n",
       "    </tr>\n",
       "    <tr>\n",
       "      <th>18</th>\n",
       "      <td>BC 832 - San Francisco de Paula</td>\n",
       "      <td>bc-832---cucuta</td>\n",
       "      <td>663b8840d74c45271288d129</td>\n",
       "    </tr>\n",
       "    <tr>\n",
       "      <th>19</th>\n",
       "      <td>BC 461 - La carolina Unicentro</td>\n",
       "      <td>bc-461---la-carolina-unicentro</td>\n",
       "      <td>663b87aa0ef601287d5aef5f</td>\n",
       "    </tr>\n",
       "    <tr>\n",
       "      <th>20</th>\n",
       "      <td>BC 79 - La Quinta Ibague</td>\n",
       "      <td>bc-79---ibague</td>\n",
       "      <td>663b86ff8b9950251c9d20c1</td>\n",
       "    </tr>\n",
       "    <tr>\n",
       "      <th>21</th>\n",
       "      <td>BC 619 - Plaza del Bosque Ibague</td>\n",
       "      <td>bc-619---plaza-del-bosque-ibague</td>\n",
       "      <td>663b868b8b0d7c294bb8d082</td>\n",
       "    </tr>\n",
       "    <tr>\n",
       "      <th>22</th>\n",
       "      <td>BC 73 - Pereira</td>\n",
       "      <td>bc-73---pereira</td>\n",
       "      <td>65ccd16c196573000b250466</td>\n",
       "    </tr>\n",
       "    <tr>\n",
       "      <th>23</th>\n",
       "      <td>BC 733 - La Unión Valle</td>\n",
       "      <td>bc-733-3---la-union-valle</td>\n",
       "      <td>65ba83daadd3fb000b077fd7</td>\n",
       "    </tr>\n",
       "    <tr>\n",
       "      <th>24</th>\n",
       "      <td>BC 772 - Caicedonia</td>\n",
       "      <td>bc-772---caicedonia</td>\n",
       "      <td>65b01039bd7602000cc5863a</td>\n",
       "    </tr>\n",
       "    <tr>\n",
       "      <th>25</th>\n",
       "      <td>BC 583 - Riosucio</td>\n",
       "      <td>bc-583---riosucio</td>\n",
       "      <td>65b00f8d74bcdc000e44adf2</td>\n",
       "    </tr>\n",
       "    <tr>\n",
       "      <th>26</th>\n",
       "      <td>BC 115 - Circunvalar Pereira</td>\n",
       "      <td>bc-115---circunvalar-pereira</td>\n",
       "      <td>65b00eca8e33ec000b46fd2c</td>\n",
       "    </tr>\n",
       "    <tr>\n",
       "      <th>27</th>\n",
       "      <td>BC 265 - Valle de Lili</td>\n",
       "      <td>bc-265---valle-de-lili</td>\n",
       "      <td>65b00dd5bd7602000ed3b021</td>\n",
       "    </tr>\n",
       "    <tr>\n",
       "      <th>28</th>\n",
       "      <td>BC  687 - Planeta Rica</td>\n",
       "      <td>bc-687---planeta-rica</td>\n",
       "      <td>65b00cf4363675000c7be25b</td>\n",
       "    </tr>\n",
       "    <tr>\n",
       "      <th>29</th>\n",
       "      <td>BC 513 - El Dificil</td>\n",
       "      <td>bc-513---el-dificil</td>\n",
       "      <td>65b00c444e1f00000b218fe2</td>\n",
       "    </tr>\n",
       "    <tr>\n",
       "      <th>30</th>\n",
       "      <td>BC 111 - Corozal</td>\n",
       "      <td>bc-111---corozal</td>\n",
       "      <td>65b00bbd9618a0000d33d347</td>\n",
       "    </tr>\n",
       "    <tr>\n",
       "      <th>31</th>\n",
       "      <td>BC 681 - Cerete</td>\n",
       "      <td>bc-681---cerete</td>\n",
       "      <td>65b00b8b74bcdc000d8b671c</td>\n",
       "    </tr>\n",
       "    <tr>\n",
       "      <th>32</th>\n",
       "      <td>BC 516 - Santa Marta</td>\n",
       "      <td>bc-516---santa-marta</td>\n",
       "      <td>65b00a5c4e1f00000e7d7163</td>\n",
       "    </tr>\n",
       "    <tr>\n",
       "      <th>33</th>\n",
       "      <td>BC 517 - El Rodadero</td>\n",
       "      <td>bc-517---el-rodadero</td>\n",
       "      <td>65b00997363675000db422df</td>\n",
       "    </tr>\n",
       "    <tr>\n",
       "      <th>34</th>\n",
       "      <td>BC 781 - Prado Plaza</td>\n",
       "      <td>bc-781---prado-plaza</td>\n",
       "      <td>65b00917c1bd04000d0d96a7</td>\n",
       "    </tr>\n",
       "    <tr>\n",
       "      <th>35</th>\n",
       "      <td>BC 775 - Bulevar 54</td>\n",
       "      <td>bc-775---bulevar-54</td>\n",
       "      <td>65b008b4d77fef000d0c2444</td>\n",
       "    </tr>\n",
       "    <tr>\n",
       "      <th>36</th>\n",
       "      <td>BC 554 - Mall Plaza Buenavista</td>\n",
       "      <td>bc-554---mall-plaza-buenavista</td>\n",
       "      <td>65b00877363675000db422de</td>\n",
       "    </tr>\n",
       "    <tr>\n",
       "      <th>37</th>\n",
       "      <td>BC 777 - Parque Washington</td>\n",
       "      <td>bc-777---parque-washington</td>\n",
       "      <td>65b008049618a0000d33d346</td>\n",
       "    </tr>\n",
       "    <tr>\n",
       "      <th>38</th>\n",
       "      <td>BC 478 - Mix Vía 40</td>\n",
       "      <td>bc-478---mix-via-40</td>\n",
       "      <td>65b007c2f722b1000bd997f9</td>\n",
       "    </tr>\n",
       "    <tr>\n",
       "      <th>39</th>\n",
       "      <td>BC 81 - Avenida Kennedy</td>\n",
       "      <td>bc-81---avenida-kennedy</td>\n",
       "      <td>65b00756bd7602000b6876b8</td>\n",
       "    </tr>\n",
       "    <tr>\n",
       "      <th>40</th>\n",
       "      <td>BC 388 - CC Hayuelos</td>\n",
       "      <td>bc90t</td>\n",
       "      <td>6488bd6c6d9fda000c2959c8</td>\n",
       "    </tr>\n",
       "    <tr>\n",
       "      <th>41</th>\n",
       "      <td>BC 384 - Anapoima</td>\n",
       "      <td>bc89t</td>\n",
       "      <td>6488bd626d9fda000e29786d</td>\n",
       "    </tr>\n",
       "    <tr>\n",
       "      <th>42</th>\n",
       "      <td>BC 332 - Zipaquira</td>\n",
       "      <td>bc88t</td>\n",
       "      <td>6488bd56874ff70010ba4844</td>\n",
       "    </tr>\n",
       "    <tr>\n",
       "      <th>43</th>\n",
       "      <td>BC 802 - Puerto Lopez</td>\n",
       "      <td>bc85t</td>\n",
       "      <td>6488bd2d031607000fc3aa8c</td>\n",
       "    </tr>\n",
       "    <tr>\n",
       "      <th>44</th>\n",
       "      <td>BC 367 - Granada Meta</td>\n",
       "      <td>bc84t</td>\n",
       "      <td>6488bd22dbb227000ba6eb55</td>\n",
       "    </tr>\n",
       "    <tr>\n",
       "      <th>45</th>\n",
       "      <td>BC 689 - Metropolis</td>\n",
       "      <td>bc80t</td>\n",
       "      <td>6488bcaf874ff7000ec039ef</td>\n",
       "    </tr>\n",
       "  </tbody>\n",
       "</table>\n",
       "</div>"
      ],
      "text/plain": [
       "                         device_name                      device_label  \\\n",
       "0                    BC 83 - Miramar                   bc-83---miramar   \n",
       "1                 BC 795 - Cañaveral                bc-795---canaveral   \n",
       "2                   BC 322 - San Gil                  bc-322---san-gil   \n",
       "3                 BC 325 - Santuario                bc-325---santuario   \n",
       "4              BC 43 - Puente Aranda             bc-43---puente-aranda   \n",
       "5                       BC 602 - UGI                      bc-602---ugi   \n",
       "6                     BC 68 - Ibague                    bc-68---ibague   \n",
       "7    BC 57 - Villavicencio Principal   bc-57---villavicencio-principal   \n",
       "8                  BC - Metropolitan                 bc---metropolitan   \n",
       "9                  BC - Jardin Plaza                 bc---jardin-plaza   \n",
       "10                BC 415 - El Retiro                bc-415---el-retiro   \n",
       "11                 BC 334 - El Peñol                 bc-334---el-penol   \n",
       "12                 BC 673 - Calle 80                 bc-673---calle-80   \n",
       "13                  BC 892 - La Vega                  bc-892---la-vega   \n",
       "14                 BC 138 - Mosquera                 bc-138---mosquera   \n",
       "15                  BC 385 - Villeta                  bc-385---villeta   \n",
       "16                   BC 221 - Soacha                   bc-221---soacha   \n",
       "17                 BC 479 - Pamplona                 bc-479---pamplona   \n",
       "18   BC 832 - San Francisco de Paula                   bc-832---cucuta   \n",
       "19    BC 461 - La carolina Unicentro    bc-461---la-carolina-unicentro   \n",
       "20          BC 79 - La Quinta Ibague                    bc-79---ibague   \n",
       "21  BC 619 - Plaza del Bosque Ibague  bc-619---plaza-del-bosque-ibague   \n",
       "22                   BC 73 - Pereira                   bc-73---pereira   \n",
       "23           BC 733 - La Unión Valle         bc-733-3---la-union-valle   \n",
       "24               BC 772 - Caicedonia               bc-772---caicedonia   \n",
       "25                 BC 583 - Riosucio                 bc-583---riosucio   \n",
       "26      BC 115 - Circunvalar Pereira      bc-115---circunvalar-pereira   \n",
       "27            BC 265 - Valle de Lili            bc-265---valle-de-lili   \n",
       "28            BC  687 - Planeta Rica             bc-687---planeta-rica   \n",
       "29               BC 513 - El Dificil               bc-513---el-dificil   \n",
       "30                  BC 111 - Corozal                  bc-111---corozal   \n",
       "31                   BC 681 - Cerete                   bc-681---cerete   \n",
       "32              BC 516 - Santa Marta              bc-516---santa-marta   \n",
       "33              BC 517 - El Rodadero              bc-517---el-rodadero   \n",
       "34              BC 781 - Prado Plaza              bc-781---prado-plaza   \n",
       "35               BC 775 - Bulevar 54               bc-775---bulevar-54   \n",
       "36    BC 554 - Mall Plaza Buenavista    bc-554---mall-plaza-buenavista   \n",
       "37        BC 777 - Parque Washington        bc-777---parque-washington   \n",
       "38               BC 478 - Mix Vía 40               bc-478---mix-via-40   \n",
       "39           BC 81 - Avenida Kennedy           bc-81---avenida-kennedy   \n",
       "40              BC 388 - CC Hayuelos                             bc90t   \n",
       "41                 BC 384 - Anapoima                             bc89t   \n",
       "42                BC 332 - Zipaquira                             bc88t   \n",
       "43             BC 802 - Puerto Lopez                             bc85t   \n",
       "44             BC 367 - Granada Meta                             bc84t   \n",
       "45               BC 689 - Metropolis                             bc80t   \n",
       "\n",
       "                   device_id  \n",
       "0   67d1c0f06fc439000ea25671  \n",
       "1   67b73809266c0f2abaa4dd54  \n",
       "2   67b737d619aa0e22e0e5f84e  \n",
       "3   67b7376ddbb3442aff4eab47  \n",
       "4   67b73749d50da42a53390cf2  \n",
       "5   67b7371fdbb3442c70975d96  \n",
       "6   67b736f57768142929f1f1fa  \n",
       "7   67b736cf7768142929f1f1f9  \n",
       "8   668eac0c4e426c000d962c8d  \n",
       "9   6644d727097b8c000d7da004  \n",
       "10  6644d70220fb04000b1b23c3  \n",
       "11  6644d6daf3a04308edb9e388  \n",
       "12  6644d6b8703aeb0744d6fde3  \n",
       "13  6644d693dc8cc1000d329f53  \n",
       "14  663b88de0ef6012a4ba136c9  \n",
       "15  663b88bf1a0f7f255ace064d  \n",
       "16  663b889d06a67b292f6c5a98  \n",
       "17  663b886a2ac0a42ac93d8895  \n",
       "18  663b8840d74c45271288d129  \n",
       "19  663b87aa0ef601287d5aef5f  \n",
       "20  663b86ff8b9950251c9d20c1  \n",
       "21  663b868b8b0d7c294bb8d082  \n",
       "22  65ccd16c196573000b250466  \n",
       "23  65ba83daadd3fb000b077fd7  \n",
       "24  65b01039bd7602000cc5863a  \n",
       "25  65b00f8d74bcdc000e44adf2  \n",
       "26  65b00eca8e33ec000b46fd2c  \n",
       "27  65b00dd5bd7602000ed3b021  \n",
       "28  65b00cf4363675000c7be25b  \n",
       "29  65b00c444e1f00000b218fe2  \n",
       "30  65b00bbd9618a0000d33d347  \n",
       "31  65b00b8b74bcdc000d8b671c  \n",
       "32  65b00a5c4e1f00000e7d7163  \n",
       "33  65b00997363675000db422df  \n",
       "34  65b00917c1bd04000d0d96a7  \n",
       "35  65b008b4d77fef000d0c2444  \n",
       "36  65b00877363675000db422de  \n",
       "37  65b008049618a0000d33d346  \n",
       "38  65b007c2f722b1000bd997f9  \n",
       "39  65b00756bd7602000b6876b8  \n",
       "40  6488bd6c6d9fda000c2959c8  \n",
       "41  6488bd626d9fda000e29786d  \n",
       "42  6488bd56874ff70010ba4844  \n",
       "43  6488bd2d031607000fc3aa8c  \n",
       "44  6488bd22dbb227000ba6eb55  \n",
       "45  6488bcaf874ff7000ec039ef  "
      ]
     },
     "execution_count": 7,
     "metadata": {},
     "output_type": "execute_result"
    }
   ],
   "source": [
    "df_devices"
   ]
  },
  {
   "cell_type": "code",
   "execution_count": 8,
   "metadata": {},
   "outputs": [],
   "source": [
    "#df_vars = ubi.get_available_variables(['65b00756bd7602000b6876b8'])"
   ]
  },
  {
   "cell_type": "code",
   "execution_count": 9,
   "metadata": {},
   "outputs": [
    {
     "data": {
      "application/vnd.microsoft.datawrangler.viewer.v0+json": {
       "columns": [
        {
         "name": "index",
         "rawType": "int64",
         "type": "integer"
        },
        {
         "name": "variable_id",
         "rawType": "object",
         "type": "string"
        },
        {
         "name": "variable_label",
         "rawType": "object",
         "type": "string"
        },
        {
         "name": "device_id",
         "rawType": "object",
         "type": "string"
        }
       ],
       "ref": "bd18cd78-b0a7-4fa4-b6d7-960d61c044a7",
       "rows": [
        [
         "0",
         "67f43e3237c582000eece7a0",
         "consumo-domingo",
         "67d1c0f06fc439000ea25671"
        ],
        [
         "1",
         "67f43e1f5e5d4f000e87d997",
         "consumo-sabado",
         "67d1c0f06fc439000ea25671"
        ],
        [
         "2",
         "67f43e0841d651000e8c3e98",
         "consumo-semana",
         "67d1c0f06fc439000ea25671"
        ],
        [
         "3",
         "67f43df76ef647000f2f4bc6",
         "potencia-diaria-promedio",
         "67d1c0f06fc439000ea25671"
        ],
        [
         "4",
         "67f43ddf6ef647001131946c",
         "tipo-dia",
         "67d1c0f06fc439000ea25671"
        ],
        [
         "5",
         "67f43dcf02050700114bfd9e",
         "hora-def",
         "67d1c0f06fc439000ea25671"
        ],
        [
         "6",
         "67f43dc3457483000eede904",
         "dia-def",
         "67d1c0f06fc439000ea25671"
        ],
        [
         "7",
         "67f43daba119ab001032631a",
         "kw-tr",
         "67d1c0f06fc439000ea25671"
        ],
        [
         "8",
         "67f43d912f5b31000e8283bb",
         "area",
         "67d1c0f06fc439000ea25671"
        ],
        [
         "9",
         "67f43d82730da6000f4d45b9",
         "tr",
         "67d1c0f06fc439000ea25671"
        ],
        [
         "10",
         "67f43d63029c580010e3fef2",
         "aa-potencia-activa",
         "67d1c0f06fc439000ea25671"
        ],
        [
         "11",
         "67f43d4541d651001184a667",
         "energia-reactiva-inductiva-total",
         "67d1c0f06fc439000ea25671"
        ],
        [
         "12",
         "67f43d38e26a85001199231b",
         "energia-reactiva-capacitiva-total",
         "67d1c0f06fc439000ea25671"
        ],
        [
         "13",
         "67f43d232f5b31000f1bddaf",
         "otros-consumo-activa",
         "67d1c0f06fc439000ea25671"
        ],
        [
         "14",
         "67f43d10644a130011d20bbb",
         "aa-consumo-activa",
         "67d1c0f06fc439000ea25671"
        ],
        [
         "15",
         "67f43ce1644a1300103de177",
         "front-consumo-activa",
         "67d1c0f06fc439000ea25671"
        ],
        [
         "16",
         "67d1c11f8cafe2000dcc4d4a",
         "energia-activa-consumida-acumulada",
         "67d1c0f06fc439000ea25671"
        ],
        [
         "17",
         "67d1c11f8cafe2000dcc4d49",
         "factor-de-potencia-l3",
         "67d1c0f06fc439000ea25671"
        ],
        [
         "18",
         "67d1c11f8cafe2000dcc4d48",
         "factor-de-potencia-l2",
         "67d1c0f06fc439000ea25671"
        ],
        [
         "19",
         "67d1c11f8cafe2000dcc4d47",
         "factor-de-potencia-l1",
         "67d1c0f06fc439000ea25671"
        ],
        [
         "20",
         "67d1c11f8cafe2000dcc4d46",
         "corriente-l3",
         "67d1c0f06fc439000ea25671"
        ],
        [
         "21",
         "67d1c11f8cafe2000dcc4d45",
         "corriente-l2",
         "67d1c0f06fc439000ea25671"
        ],
        [
         "22",
         "67d1c11e8cafe2000dcc4d44",
         "corriente-l1",
         "67d1c0f06fc439000ea25671"
        ],
        [
         "23",
         "67d1c11e8cafe2000dcc4d43",
         "front-tension-3",
         "67d1c0f06fc439000ea25671"
        ],
        [
         "24",
         "67d1c11e8cafe2000dcc4d42",
         "front-tension-2",
         "67d1c0f06fc439000ea25671"
        ],
        [
         "25",
         "67d1c11e8cafe2000dcc4d41",
         "front-tension-1",
         "67d1c0f06fc439000ea25671"
        ],
        [
         "26",
         "67d1c11e8cafe2000dcc4d40",
         "factor-de-potencia",
         "67d1c0f06fc439000ea25671"
        ],
        [
         "27",
         "67d1c11e8cafe2000dcc4d3f",
         "potencia-capacitiva",
         "67d1c0f06fc439000ea25671"
        ],
        [
         "28",
         "67d1c11d8cafe2000dcc4d3e",
         "potencia-inductiva",
         "67d1c0f06fc439000ea25671"
        ],
        [
         "29",
         "67d1c11d8cafe2000dcc4d3d",
         "front-potencia-activa",
         "67d1c0f06fc439000ea25671"
        ],
        [
         "30",
         "67d1c11d8cafe2000dcc4d3c",
         "energia-aparente-consumida",
         "67d1c0f06fc439000ea25671"
        ],
        [
         "31",
         "67d1c11d8cafe2000dcc4d3b",
         "energia-reactiva-capacitiva-consumida",
         "67d1c0f06fc439000ea25671"
        ],
        [
         "32",
         "67d1c11d8cafe2000dcc4d3a",
         "energia-reactiva-inductiva-consumida",
         "67d1c0f06fc439000ea25671"
        ],
        [
         "33",
         "67f43c095e5d4f000e87d996",
         "consumo-domingo",
         "67b73809266c0f2abaa4dd54"
        ],
        [
         "34",
         "67f43bf4a119ab0011e78cb1",
         "consumo-sabado",
         "67b73809266c0f2abaa4dd54"
        ],
        [
         "35",
         "67f43be1dcace4001106e82e",
         "consumo-semana",
         "67b73809266c0f2abaa4dd54"
        ],
        [
         "36",
         "67f43bb5c4fdbc000e5ac561",
         "potencia-diaria-promedio",
         "67b73809266c0f2abaa4dd54"
        ],
        [
         "37",
         "67f43b9fdcace4001034c282",
         "tipo-dia",
         "67b73809266c0f2abaa4dd54"
        ],
        [
         "38",
         "67f43b63730da6000eb26781",
         "hora-def",
         "67b73809266c0f2abaa4dd54"
        ],
        [
         "39",
         "67f43b3a04d0ac000efe1422",
         "dia-def",
         "67b73809266c0f2abaa4dd54"
        ],
        [
         "40",
         "67f43b2f029c58000f767014",
         "kw-tr",
         "67b73809266c0f2abaa4dd54"
        ],
        [
         "41",
         "67f43b2141cdc4000fd51619",
         "area",
         "67b73809266c0f2abaa4dd54"
        ],
        [
         "42",
         "67f43b0f029c58000f767013",
         "tr",
         "67b73809266c0f2abaa4dd54"
        ],
        [
         "43",
         "67f43af5020507000e1cd01e",
         "ilu-potencia-activa",
         "67b73809266c0f2abaa4dd54"
        ],
        [
         "44",
         "67f43adf4574830010c8ad18",
         "aa-potencia-activa",
         "67b73809266c0f2abaa4dd54"
        ],
        [
         "45",
         "67f43acf04d0ac00110c96d1",
         "energia-reactiva-inductiva-total",
         "67b73809266c0f2abaa4dd54"
        ],
        [
         "46",
         "67f43abf2f5b310010df07ab",
         "energia-reactiva-capacitiva-total",
         "67b73809266c0f2abaa4dd54"
        ],
        [
         "47",
         "67f43a82644a13000f613a25",
         "otros-consumo-activa",
         "67b73809266c0f2abaa4dd54"
        ],
        [
         "48",
         "67f43a53c68384000f0f85ac",
         "front-consumo-activa",
         "67b73809266c0f2abaa4dd54"
        ],
        [
         "49",
         "67f43a4137c5820010f2abe2",
         "ilu-consumo-activa",
         "67b73809266c0f2abaa4dd54"
        ]
       ],
       "shape": {
        "columns": 3,
        "rows": 1589
       }
      },
      "text/html": [
       "<div>\n",
       "<style scoped>\n",
       "    .dataframe tbody tr th:only-of-type {\n",
       "        vertical-align: middle;\n",
       "    }\n",
       "\n",
       "    .dataframe tbody tr th {\n",
       "        vertical-align: top;\n",
       "    }\n",
       "\n",
       "    .dataframe thead th {\n",
       "        text-align: right;\n",
       "    }\n",
       "</style>\n",
       "<table border=\"1\" class=\"dataframe\">\n",
       "  <thead>\n",
       "    <tr style=\"text-align: right;\">\n",
       "      <th></th>\n",
       "      <th>variable_id</th>\n",
       "      <th>variable_label</th>\n",
       "      <th>device_id</th>\n",
       "    </tr>\n",
       "  </thead>\n",
       "  <tbody>\n",
       "    <tr>\n",
       "      <th>0</th>\n",
       "      <td>67f43e3237c582000eece7a0</td>\n",
       "      <td>consumo-domingo</td>\n",
       "      <td>67d1c0f06fc439000ea25671</td>\n",
       "    </tr>\n",
       "    <tr>\n",
       "      <th>1</th>\n",
       "      <td>67f43e1f5e5d4f000e87d997</td>\n",
       "      <td>consumo-sabado</td>\n",
       "      <td>67d1c0f06fc439000ea25671</td>\n",
       "    </tr>\n",
       "    <tr>\n",
       "      <th>2</th>\n",
       "      <td>67f43e0841d651000e8c3e98</td>\n",
       "      <td>consumo-semana</td>\n",
       "      <td>67d1c0f06fc439000ea25671</td>\n",
       "    </tr>\n",
       "    <tr>\n",
       "      <th>3</th>\n",
       "      <td>67f43df76ef647000f2f4bc6</td>\n",
       "      <td>potencia-diaria-promedio</td>\n",
       "      <td>67d1c0f06fc439000ea25671</td>\n",
       "    </tr>\n",
       "    <tr>\n",
       "      <th>4</th>\n",
       "      <td>67f43ddf6ef647001131946c</td>\n",
       "      <td>tipo-dia</td>\n",
       "      <td>67d1c0f06fc439000ea25671</td>\n",
       "    </tr>\n",
       "    <tr>\n",
       "      <th>...</th>\n",
       "      <td>...</td>\n",
       "      <td>...</td>\n",
       "      <td>...</td>\n",
       "    </tr>\n",
       "    <tr>\n",
       "      <th>1584</th>\n",
       "      <td>6488c1585f39c9005afa4051</td>\n",
       "      <td>potencia-inductiva</td>\n",
       "      <td>6488bcaf874ff7000ec039ef</td>\n",
       "    </tr>\n",
       "    <tr>\n",
       "      <th>1585</th>\n",
       "      <td>6488c1585f39c9005afa4050</td>\n",
       "      <td>front-potencia-activa</td>\n",
       "      <td>6488bcaf874ff7000ec039ef</td>\n",
       "    </tr>\n",
       "    <tr>\n",
       "      <th>1586</th>\n",
       "      <td>6488c1585f39c9005afa404f</td>\n",
       "      <td>energia-aparente-consumida</td>\n",
       "      <td>6488bcaf874ff7000ec039ef</td>\n",
       "    </tr>\n",
       "    <tr>\n",
       "      <th>1587</th>\n",
       "      <td>6488c1585f39c9005afa404e</td>\n",
       "      <td>energia-reactiva-capacitiva-consumida</td>\n",
       "      <td>6488bcaf874ff7000ec039ef</td>\n",
       "    </tr>\n",
       "    <tr>\n",
       "      <th>1588</th>\n",
       "      <td>6488c1585f39c9005afa404d</td>\n",
       "      <td>energia-reactiva-inductiva-consumida</td>\n",
       "      <td>6488bcaf874ff7000ec039ef</td>\n",
       "    </tr>\n",
       "  </tbody>\n",
       "</table>\n",
       "<p>1589 rows × 3 columns</p>\n",
       "</div>"
      ],
      "text/plain": [
       "                   variable_id                         variable_label  \\\n",
       "0     67f43e3237c582000eece7a0                        consumo-domingo   \n",
       "1     67f43e1f5e5d4f000e87d997                         consumo-sabado   \n",
       "2     67f43e0841d651000e8c3e98                         consumo-semana   \n",
       "3     67f43df76ef647000f2f4bc6               potencia-diaria-promedio   \n",
       "4     67f43ddf6ef647001131946c                               tipo-dia   \n",
       "...                        ...                                    ...   \n",
       "1584  6488c1585f39c9005afa4051                     potencia-inductiva   \n",
       "1585  6488c1585f39c9005afa4050                  front-potencia-activa   \n",
       "1586  6488c1585f39c9005afa404f             energia-aparente-consumida   \n",
       "1587  6488c1585f39c9005afa404e  energia-reactiva-capacitiva-consumida   \n",
       "1588  6488c1585f39c9005afa404d   energia-reactiva-inductiva-consumida   \n",
       "\n",
       "                     device_id  \n",
       "0     67d1c0f06fc439000ea25671  \n",
       "1     67d1c0f06fc439000ea25671  \n",
       "2     67d1c0f06fc439000ea25671  \n",
       "3     67d1c0f06fc439000ea25671  \n",
       "4     67d1c0f06fc439000ea25671  \n",
       "...                        ...  \n",
       "1584  6488bcaf874ff7000ec039ef  \n",
       "1585  6488bcaf874ff7000ec039ef  \n",
       "1586  6488bcaf874ff7000ec039ef  \n",
       "1587  6488bcaf874ff7000ec039ef  \n",
       "1588  6488bcaf874ff7000ec039ef  \n",
       "\n",
       "[1589 rows x 3 columns]"
      ]
     },
     "execution_count": 9,
     "metadata": {},
     "output_type": "execute_result"
    }
   ],
   "source": [
    "df_vars"
   ]
  },
  {
   "cell_type": "code",
   "execution_count": 10,
   "metadata": {},
   "outputs": [],
   "source": [
    "df_vars = df_vars[df_vars['variable_label'].isin(cfg.WHITELISTED_VAR_LABELS)]\n",
    "VAR_IDS_TO_REQUEST = list(df_vars['variable_id'])\n",
    "VAR_ID_TO_LABEL = dict(zip(df_vars['variable_id'], df_vars['variable_label']))"
   ]
  },
  {
   "cell_type": "code",
   "execution_count": 11,
   "metadata": {},
   "outputs": [],
   "source": [
    "#leer el archivo data_weekly_report.pkl y guardarlo en un dataframe llamado df1\n",
    "df1 = pd.read_pickle(r'C:\\Digitalizacion\\Bancolombia\\CB_informe_Fase_2\\data\\data_weekly_report.pkl')\n"
   ]
  },
  {
   "cell_type": "code",
   "execution_count": 12,
   "metadata": {},
   "outputs": [
    {
     "name": "stdout",
     "output_type": "stream",
     "text": [
      "<class 'pandas.core.frame.DataFrame'>\n",
      "DatetimeIndex: 42751971 entries, 2024-10-07 00:00:00-05:00 to 2025-08-19 00:03:00-05:00\n",
      "Data columns (total 4 columns):\n",
      " #   Column       Dtype  \n",
      "---  ------       -----  \n",
      " 0   value        float64\n",
      " 1   variable     object \n",
      " 2   device       object \n",
      " 3   device_name  object \n",
      "dtypes: float64(1), object(3)\n",
      "memory usage: 1.6+ GB\n"
     ]
    }
   ],
   "source": [
    "df1.info()"
   ]
  },
  {
   "cell_type": "code",
   "execution_count": 13,
   "metadata": {},
   "outputs": [],
   "source": [
    "#study = ['2025-06-02', '2025-06-09']"
   ]
  },
  {
   "cell_type": "code",
   "execution_count": 14,
   "metadata": {},
   "outputs": [
    {
     "name": "stdout",
     "output_type": "stream",
     "text": [
      "Making request for the following interval: Study:2025-08-25, Study:2025-09-01\n",
      "Progress: 2.5%\n",
      "Response status code: 200\n",
      "Progress: 4.8%\n",
      "Response status code: 200\n",
      "Progress: 7.0%\n",
      "Response status code: 200\n",
      "Progress: 9.3%\n",
      "Response status code: 200\n",
      "Progress: 11.6%\n",
      "Response status code: 200\n",
      "Progress: 13.8%\n",
      "Response status code: 200\n",
      "Progress: 16.1%\n",
      "Response status code: 200\n",
      "Progress: 18.4%\n",
      "Response status code: 200\n",
      "Progress: 20.6%\n",
      "Response status code: 200\n",
      "Progress: 22.9%\n",
      "Response status code: 200\n",
      "Progress: 25.2%\n",
      "Response status code: 200\n",
      "Progress: 27.4%\n",
      "Response status code: 200\n",
      "Progress: 29.7%\n",
      "Response status code: 200\n",
      "Progress: 32.0%\n",
      "Response status code: 200\n",
      "Progress: 34.2%\n",
      "Response status code: 200\n",
      "Progress: 36.5%\n",
      "Response status code: 200\n",
      "Progress: 38.8%\n",
      "Response status code: 200\n",
      "Progress: 41.0%\n",
      "Response status code: 200\n",
      "Progress: 43.3%\n",
      "Response status code: 200\n",
      "Progress: 45.6%\n",
      "Response status code: 200\n",
      "Progress: 47.8%\n",
      "Response status code: 200\n",
      "Progress: 50.1%\n",
      "Response status code: 200\n",
      "Progress: 52.4%\n",
      "Response status code: 200\n",
      "Progress: 54.6%\n",
      "Response status code: 200\n",
      "Progress: 56.9%\n",
      "Response status code: 200\n",
      "Progress: 59.2%\n",
      "Response status code: 200\n",
      "Progress: 61.5%\n",
      "Response status code: 200\n",
      "Progress: 63.7%\n",
      "Response status code: 200\n",
      "Progress: 66.0%\n",
      "Response status code: 200\n",
      "Progress: 68.3%\n",
      "Response status code: 200\n",
      "Progress: 70.5%\n",
      "Response status code: 200\n",
      "Progress: 72.8%\n",
      "Response status code: 200\n",
      "Progress: 75.1%\n",
      "Response status code: 200\n",
      "Progress: 77.3%\n",
      "Response status code: 200\n",
      "Progress: 79.6%\n",
      "Response status code: 200\n",
      "Progress: 81.9%\n",
      "Response status code: 200\n",
      "Progress: 84.1%\n",
      "Response status code: 200\n",
      "Progress: 86.4%\n",
      "Response status code: 200\n",
      "Progress: 88.7%\n",
      "Response status code: 200\n",
      "Progress: 90.9%\n",
      "Response status code: 200\n",
      "Progress: 93.2%\n",
      "Response status code: 200\n",
      "Progress: 95.5%\n",
      "Response status code: 200\n",
      "Progress: 97.7%\n",
      "Response status code: 200\n",
      "Progress: 100.0%\n",
      "Response status code: 200\n",
      "Progress: 100.0%\n",
      "Response status code: 200\n"
     ]
    }
   ],
   "source": [
    "CHUNK_SIZE = 10\n",
    "DATE_INTERVAL_REQUEST = {'start': study[0], 'end': study[1]}\n",
    "df = None\n",
    "lst_responses = []\n",
    "n_vars = len(VAR_IDS_TO_REQUEST)\n",
    "print(f\"Making request for the following interval: Study:{study[0]}, Study:{study[1]}\")\n",
    "for idx in range(0, ubi.ceildiv(len(VAR_IDS_TO_REQUEST), CHUNK_SIZE)):\n",
    "    idx_start = idx * CHUNK_SIZE\n",
    "    idx_end = (idx + 1) * CHUNK_SIZE\n",
    "    chunk = VAR_IDS_TO_REQUEST[idx_start:idx_end]\n",
    "    response = ubi.make_request(\n",
    "        chunk, \n",
    "        DATE_INTERVAL_REQUEST, \n",
    "    )\n",
    "    if response.status_code == 204 or response.status_code >= 500:\n",
    "        print(f\"Empty response for chunk {idx}\")\n",
    "        time.sleep(10)\n",
    "        response = ubi.make_request(\n",
    "        chunk, \n",
    "        DATE_INTERVAL_REQUEST,)\n",
    "    current_idx = idx_end+1\n",
    "    if (current_idx > n_vars):\n",
    "        current_idx = n_vars\n",
    "    print(f\"Progress: {100*(current_idx)/n_vars:0.1f}%\")\n",
    "    print(f\"Response status code: {response.status_code}\")\n",
    "    if (response.status_code != 204) and  (len(response.json()['results']) >0 ):\n",
    "        lst_responses.append(response)\n",
    "    else: \n",
    "        print(f\"Empty response for chunk {idx}\")\n",
    "df = ubi.parse_response(lst_responses, VAR_ID_TO_LABEL)"
   ]
  },
  {
   "cell_type": "code",
   "execution_count": 15,
   "metadata": {},
   "outputs": [],
   "source": [
    "#Unir el dataframe dfprogress: 30.5%Response status code: 200Progress: 34.8%Response status code: 200Progress: 39.1%Response status code: 200Progress: 43.3%Response status code: 200 y df1 en uno que se llame df_full / esto es para mas adelante\n",
    "df = pd.concat([df1, df], axis=0, ignore_index=False)\n",
    "\n",
    "# para quitar el indixe de \"datatime\" y volverlo columna \n",
    "df.reset_index(inplace=True)\n",
    "\n",
    "# Quitar duplicados \n",
    "df = df.drop_duplicates()\n",
    "\n",
    "# Establecer la columna \"datetime\" como el índice\n",
    "df.set_index('datetime', inplace=True)\n"
   ]
  },
  {
   "cell_type": "code",
   "execution_count": 16,
   "metadata": {},
   "outputs": [],
   "source": [
    "pd.to_pickle(df, project_path / 'data'/ _PICKLED_DATA_FILENAME)"
   ]
  },
  {
   "cell_type": "code",
   "execution_count": 17,
   "metadata": {},
   "outputs": [
    {
     "data": {
      "text/plain": [
       "DatetimeIndex(['2025-01-07 00:00:00-05:00', '2025-01-06 23:57:00-05:00',\n",
       "               '2025-01-06 23:54:00-05:00', '2025-01-06 23:51:00-05:00',\n",
       "               '2025-01-06 23:48:00-05:00', '2025-01-06 23:45:00-05:00',\n",
       "               '2025-01-06 23:42:00-05:00', '2025-01-06 23:39:00-05:00',\n",
       "               '2025-01-06 23:36:00-05:00', '2025-01-06 23:33:00-05:00',\n",
       "               ...\n",
       "               '2025-01-27 01:05:00-05:00', '2025-01-27 00:55:00-05:00',\n",
       "               '2025-01-27 00:50:00-05:00', '2025-01-27 00:40:00-05:00',\n",
       "               '2025-01-27 00:35:00-05:00', '2025-01-27 00:25:00-05:00',\n",
       "               '2025-01-27 00:20:00-05:00', '2025-01-27 00:10:00-05:00',\n",
       "               '2025-01-27 00:05:00-05:00', '2025-01-28 16:57:01-05:00'],\n",
       "              dtype='datetime64[ns, America/Bogota]', name='datetime', length=24491, freq=None)"
      ]
     },
     "execution_count": 17,
     "metadata": {},
     "output_type": "execute_result"
    }
   ],
   "source": [
    "df.index[(df.index.month == 1)&(df.index.year == 2025)].unique()"
   ]
  },
  {
   "cell_type": "code",
   "execution_count": null,
   "metadata": {},
   "outputs": [],
   "source": []
  }
 ],
 "metadata": {
  "kernelspec": {
   "display_name": "bancolombia",
   "language": "python",
   "name": "python3"
  },
  "language_info": {
   "codemirror_mode": {
    "name": "ipython",
    "version": 3
   },
   "file_extension": ".py",
   "mimetype": "text/x-python",
   "name": "python",
   "nbconvert_exporter": "python",
   "pygments_lexer": "ipython3",
   "version": "3.9.18"
  },
  "orig_nbformat": 4
 },
 "nbformat": 4,
 "nbformat_minor": 2
}
