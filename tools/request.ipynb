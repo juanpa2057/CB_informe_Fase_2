{
 "cells": [
  {
   "cell_type": "markdown",
   "metadata": {},
   "source": []
  },
  {
   "cell_type": "code",
   "execution_count": 17,
   "metadata": {},
   "outputs": [],
   "source": [
    "# this cell enables relative path imports\n",
    "import os\n",
    "from dotenv import load_dotenv\n",
    "import pickle\n",
    "load_dotenv()\n",
    "_PROJECT_PATH: str = os.environ[\"_project_path\"]\n",
    "_PICKLED_DATA_FILENAME: str = os.environ[\"_pickled_data_filename\"]\n",
    "_CSV_DATA_FILENAME: str = os.environ[\"_csv_data_filename\"]\n",
    "\n",
    "\n",
    "\n",
    "import sys\n",
    "from pathlib import Path\n",
    "project_path = Path(_PROJECT_PATH)\n",
    "sys.path.append(str(project_path))"
   ]
  },
  {
   "cell_type": "code",
   "execution_count": 18,
   "metadata": {},
   "outputs": [],
   "source": [
    "# import all your modules here\n",
    "import time\n",
    "import json\n",
    "import pandas as pd\n",
    "\n",
    "import config_v2 as cfg\n",
    "from library_ubidots_v2 import Ubidots as ubi"
   ]
  },
  {
   "cell_type": "code",
   "execution_count": 19,
   "metadata": {},
   "outputs": [],
   "source": [
    "#blob_name = r\"data/data_weekly_report.pkl\"\n",
    "#downloader.upload_pkl_file(bancolombia_pkl,blob_name, blob_container)"
   ]
  },
  {
   "cell_type": "code",
   "execution_count": 20,
   "metadata": {},
   "outputs": [],
   "source": [
    "# set your constants here\n",
    "baseline=cfg.BASELINE\n",
    "study=cfg.STUDY\n",
    "#study = ['2025-01-01', '2025-02-01']"
   ]
  },
  {
   "cell_type": "code",
   "execution_count": 21,
   "metadata": {},
   "outputs": [
    {
     "name": "stdout",
     "output_type": "stream",
     "text": [
      "['2025-03-03', '2025-03-10']\n",
      "['2023-01-01', '2025-03-03']\n"
     ]
    }
   ],
   "source": [
    "print(study)\n",
    "print(baseline)"
   ]
  },
  {
   "cell_type": "code",
   "execution_count": 22,
   "metadata": {},
   "outputs": [],
   "source": [
    "df_devices = ubi.get_available_devices_v2(label='bancolombia-f2', level='group', page_size=1000)\n",
    "df_vars = ubi.get_available_variables(list(df_devices['device_id']))"
   ]
  },
  {
   "cell_type": "code",
   "execution_count": 23,
   "metadata": {},
   "outputs": [],
   "source": [
    "df_vars = df_vars[df_vars['variable_label'].isin(cfg.WHITELISTED_VAR_LABELS)]\n",
    "VAR_IDS_TO_REQUEST = list(df_vars['variable_id'])\n",
    "VAR_ID_TO_LABEL = dict(zip(df_vars['variable_id'], df_vars['variable_label']))"
   ]
  },
  {
   "cell_type": "code",
   "execution_count": 24,
   "metadata": {},
   "outputs": [],
   "source": [
    "#leer el archivo data_weekly_report.pkl y guardarlo en un dataframe llamado df1\n",
    "df1 = pd.read_pickle(r'C:\\Digitalización\\Bancolombia\\CB_informe_Fase_2\\data\\data_weekly_report.pkl')\n"
   ]
  },
  {
   "cell_type": "code",
   "execution_count": 25,
   "metadata": {},
   "outputs": [
    {
     "name": "stdout",
     "output_type": "stream",
     "text": [
      "<class 'pandas.core.frame.DataFrame'>\n",
      "DatetimeIndex: 26523102 entries, 2024-10-07 00:00:00-05:00 to 2025-03-03 00:03:00-05:00\n",
      "Data columns (total 4 columns):\n",
      " #   Column       Dtype  \n",
      "---  ------       -----  \n",
      " 0   value        float64\n",
      " 1   variable     object \n",
      " 2   device       object \n",
      " 3   device_name  object \n",
      "dtypes: float64(1), object(3)\n",
      "memory usage: 1011.8+ MB\n"
     ]
    }
   ],
   "source": [
    "df1.info()"
   ]
  },
  {
   "cell_type": "code",
   "execution_count": 26,
   "metadata": {},
   "outputs": [
    {
     "name": "stdout",
     "output_type": "stream",
     "text": [
      "Making request for the following interval: Study:2025-03-03, Study:2025-03-10\n",
      "Progress: 3.0%\n",
      "Response status code: 200\n",
      "Progress: 5.7%\n",
      "Response status code: 200\n",
      "Progress: 8.5%\n",
      "Response status code: 200\n",
      "Progress: 11.2%\n",
      "Response status code: 200\n",
      "Progress: 13.9%\n",
      "Response status code: 200\n",
      "Progress: 16.7%\n",
      "Response status code: 200\n",
      "Progress: 19.4%\n",
      "Response status code: 200\n",
      "Progress: 22.1%\n",
      "Response status code: 200\n",
      "Progress: 24.9%\n",
      "Response status code: 200\n",
      "Progress: 27.6%\n",
      "Response status code: 200\n",
      "Progress: 30.3%\n",
      "Response status code: 200\n",
      "Progress: 33.1%\n",
      "Response status code: 200\n",
      "Progress: 35.8%\n",
      "Response status code: 200\n",
      "Progress: 38.5%\n",
      "Response status code: 200\n",
      "Progress: 41.3%\n",
      "Response status code: 200\n",
      "Progress: 44.0%\n",
      "Response status code: 200\n",
      "Progress: 46.7%\n",
      "Response status code: 200\n",
      "Progress: 49.5%\n",
      "Response status code: 200\n",
      "Progress: 52.2%\n",
      "Response status code: 200\n",
      "Progress: 54.9%\n",
      "Response status code: 200\n",
      "Progress: 57.7%\n",
      "Response status code: 200\n",
      "Progress: 60.4%\n",
      "Response status code: 200\n",
      "Progress: 63.1%\n",
      "Response status code: 200\n",
      "Progress: 65.8%\n",
      "Response status code: 200\n",
      "Progress: 68.6%\n",
      "Response status code: 200\n",
      "Progress: 71.3%\n",
      "Response status code: 200\n",
      "Progress: 74.0%\n",
      "Response status code: 200\n",
      "Progress: 76.8%\n",
      "Response status code: 200\n",
      "Progress: 79.5%\n",
      "Response status code: 200\n",
      "Progress: 82.2%\n",
      "Response status code: 200\n",
      "Progress: 85.0%\n",
      "Response status code: 200\n",
      "Progress: 87.7%\n",
      "Response status code: 200\n",
      "Progress: 90.4%\n",
      "Response status code: 200\n",
      "Progress: 93.2%\n",
      "Response status code: 200\n",
      "Progress: 95.9%\n",
      "Response status code: 200\n",
      "Progress: 98.6%\n",
      "Response status code: 200\n",
      "Progress: 100.0%\n",
      "Response status code: 200\n"
     ]
    }
   ],
   "source": [
    "CHUNK_SIZE = 10\n",
    "DATE_INTERVAL_REQUEST = {'start': study[0], 'end': study[1]}\n",
    "df = None\n",
    "lst_responses = []\n",
    "n_vars = len(VAR_IDS_TO_REQUEST)\n",
    "print(f\"Making request for the following interval: Study:{study[0]}, Study:{study[1]}\")\n",
    "for idx in range(0, ubi.ceildiv(len(VAR_IDS_TO_REQUEST), CHUNK_SIZE)):\n",
    "    idx_start = idx * CHUNK_SIZE\n",
    "    idx_end = (idx + 1) * CHUNK_SIZE\n",
    "    chunk = VAR_IDS_TO_REQUEST[idx_start:idx_end]\n",
    "    response = ubi.make_request(\n",
    "        chunk, \n",
    "        DATE_INTERVAL_REQUEST, \n",
    "    )\n",
    "    if response.status_code == 204 or response.status_code >= 500:\n",
    "        print(f\"Empty response for chunk {idx}\")\n",
    "        time.sleep(10)\n",
    "        response = ubi.make_request(\n",
    "        chunk, \n",
    "        DATE_INTERVAL_REQUEST,)\n",
    "    current_idx = idx_end+1\n",
    "    if (current_idx > n_vars):\n",
    "        current_idx = n_vars\n",
    "    print(f\"Progress: {100*(current_idx)/n_vars:0.1f}%\")\n",
    "    print(f\"Response status code: {response.status_code}\")\n",
    "    if (response.status_code != 204) and  (len(response.json()['results']) >0 ):\n",
    "        lst_responses.append(response)\n",
    "    else: \n",
    "        print(f\"Empty response for chunk {idx}\")\n",
    "df = ubi.parse_response(lst_responses, VAR_ID_TO_LABEL)"
   ]
  },
  {
   "cell_type": "code",
   "execution_count": 27,
   "metadata": {},
   "outputs": [
    {
     "data": {
      "application/vnd.microsoft.datawrangler.viewer.v0+json": {
       "columns": [
        {
         "name": "datetime",
         "rawType": "datetime64[ns, America/Bogota]",
         "type": "unknown"
        },
        {
         "name": "value",
         "rawType": "float64",
         "type": "float"
        },
        {
         "name": "variable",
         "rawType": "object",
         "type": "string"
        },
        {
         "name": "device",
         "rawType": "object",
         "type": "string"
        },
        {
         "name": "device_name",
         "rawType": "object",
         "type": "string"
        }
       ],
       "conversionMethod": "pd.DataFrame",
       "ref": "eb225cdb-f000-4a97-9d29-09c3db8fb302",
       "rows": [
        [
         "2025-03-03 00:00:00-05:00",
         "5.6",
         "front-potencia-activa",
         "bc80t",
         "BC 689 - Metropolis"
        ],
        [
         "2025-03-03 00:00:00-05:00",
         "20.0",
         "tr",
         "bc90t",
         "BC 388 - CC Hayuelos"
        ],
        [
         "2025-03-03 00:00:00-05:00",
         "0.0",
         "ilu-consumo-activa",
         "bc90t",
         "BC 388 - CC Hayuelos"
        ],
        [
         "2025-03-03 00:00:00-05:00",
         "10.0",
         "tr",
         "bc-673---calle-80",
         "BC 673 - Calle 80"
        ],
        [
         "2025-03-03 00:00:00-05:00",
         "4.35",
         "aa-potencia-activa",
         "bc---metropolitan",
         "BC - Metropolitan"
        ],
        [
         "2025-03-03 00:00:00-05:00",
         "80.0",
         "tr",
         "bc-73---pereira",
         "BC 73 - Pereira"
        ],
        [
         "2025-03-03 00:00:00-05:00",
         "10.0",
         "front-consumo-activa",
         "bc---metropolitan",
         "BC - Metropolitan"
        ],
        [
         "2025-03-03 00:00:00-05:00",
         "0.0",
         "kw-tr",
         "bc-479---pamplona",
         "BC 479 - Pamplona"
        ],
        [
         "2025-03-03 00:00:00-05:00",
         "0.0",
         "aa-potencia-activa",
         "bc-517---el-rodadero",
         "BC 517 - El Rodadero"
        ],
        [
         "2025-03-03 00:00:00-05:00",
         "0.0",
         "kw-tr",
         "bc-73---pereira",
         "BC 73 - Pereira"
        ],
        [
         "2025-03-03 00:00:00-05:00",
         "2.8",
         "front-potencia-activa",
         "bc-517---el-rodadero",
         "BC 517 - El Rodadero"
        ],
        [
         "2025-03-03 00:00:00-05:00",
         "7.60000000000079",
         "aa-consumo-activa",
         "bc---metropolitan",
         "BC - Metropolitan"
        ],
        [
         "2025-03-03 00:00:00-05:00",
         "946.84",
         "area",
         "bc-73---pereira",
         "BC 73 - Pereira"
        ],
        [
         "2025-03-03 00:00:00-05:00",
         "0.94",
         "factor-de-potencia",
         "bc90t",
         "BC 388 - CC Hayuelos"
        ],
        [
         "2025-03-03 00:00:00-05:00",
         "365.8",
         "area",
         "bc90t",
         "BC 388 - CC Hayuelos"
        ],
        [
         "2025-03-03 00:00:00-05:00",
         "369.74",
         "area",
         "bc80t",
         "BC 689 - Metropolis"
        ],
        [
         "2025-03-03 00:00:00-05:00",
         "0.0025",
         "kw-tr",
         "bc90t",
         "BC 388 - CC Hayuelos"
        ],
        [
         "2025-03-03 00:00:00-05:00",
         "0.99",
         "factor-de-potencia",
         "bc-73---pereira",
         "BC 73 - Pereira"
        ],
        [
         "2025-03-03 00:00:00-05:00",
         "3.0",
         "front-consumo-activa",
         "bc90t",
         "BC 388 - CC Hayuelos"
        ],
        [
         "2025-03-03 00:00:00-05:00",
         "0.0",
         "consumo-energia-reactiva-capacitiva",
         "bc-81---avenida-kennedy",
         "BC 81 - Avenida Kennedy"
        ],
        [
         "2025-03-03 00:00:00-05:00",
         "31.5",
         "tr",
         "bc-81---avenida-kennedy",
         "BC 81 - Avenida Kennedy"
        ],
        [
         "2025-03-03 00:00:00-05:00",
         "16.6",
         "front-potencia-activa",
         "bc-733-3---la-union-valle",
         "BC 733 - La Unión Valle"
        ],
        [
         "2025-03-03 00:00:00-05:00",
         "19.88000000000102",
         "front-consumo-activa",
         "bc-81---avenida-kennedy",
         "BC 81 - Avenida Kennedy"
        ],
        [
         "2025-03-03 00:00:00-05:00",
         "0.005",
         "kw-tr",
         "bc-772---caicedonia",
         "BC 772 - Caicedonia"
        ],
        [
         "2025-03-03 00:00:00-05:00",
         "11.8",
         "aa-potencia-activa",
         "bc-81---avenida-kennedy",
         "BC 81 - Avenida Kennedy"
        ],
        [
         "2025-03-03 00:00:00-05:00",
         "0.15",
         "ilu-potencia-activa",
         "bc-673---calle-80",
         "BC 673 - Calle 80"
        ],
        [
         "2025-03-03 00:00:00-05:00",
         "4.6",
         "front-potencia-activa",
         "bc-221---soacha",
         "BC 221 - Soacha"
        ],
        [
         "2025-03-03 00:00:00-05:00",
         "0.0",
         "aa-consumo-activa",
         "bc-517---el-rodadero",
         "BC 517 - El Rodadero"
        ],
        [
         "2025-03-03 00:00:00-05:00",
         "2.0",
         "front-consumo-activa",
         "bc-517---el-rodadero",
         "BC 517 - El Rodadero"
        ],
        [
         "2025-03-03 00:00:00-05:00",
         "0.0",
         "ilu-consumo-activa",
         "bc-517---el-rodadero",
         "BC 517 - El Rodadero"
        ],
        [
         "2025-03-03 00:00:00-05:00",
         "0.0",
         "ilu-potencia-activa",
         "bc-517---el-rodadero",
         "BC 517 - El Rodadero"
        ],
        [
         "2025-03-03 00:00:00-05:00",
         "0.0",
         "ilu-potencia-activa",
         "bc-81---avenida-kennedy",
         "BC 81 - Avenida Kennedy"
        ],
        [
         "2025-03-03 00:00:00-05:00",
         "0.0500000000001819",
         "ilu-consumo-activa",
         "bc-81---avenida-kennedy",
         "BC 81 - Avenida Kennedy"
        ],
        [
         "2025-03-03 00:00:00-05:00",
         "14.0",
         "consumo-energia-reactiva-total",
         "bc-81---avenida-kennedy",
         "BC 81 - Avenida Kennedy"
        ],
        [
         "2025-03-03 00:00:00-05:00",
         "14.0",
         "consumo-energia-reactiva-inductiva",
         "bc-81---avenida-kennedy",
         "BC 81 - Avenida Kennedy"
        ],
        [
         "2025-03-03 00:00:00-05:00",
         "12.880000000001019",
         "aa-consumo-activa",
         "bc-81---avenida-kennedy",
         "BC 81 - Avenida Kennedy"
        ],
        [
         "2025-03-03 00:00:00-05:00",
         "1.9000000000014552",
         "ilu-consumo-activa",
         "bc80t",
         "BC 689 - Metropolis"
        ],
        [
         "2025-03-03 00:00:00-05:00",
         "100.0",
         "area",
         "bc-479---pamplona",
         "BC 479 - Pamplona"
        ],
        [
         "2025-03-03 00:00:00-05:00",
         "342.05",
         "area",
         "bc-673---calle-80",
         "BC 673 - Calle 80"
        ],
        [
         "2025-03-03 00:00:00-05:00",
         "0.99",
         "factor-de-potencia",
         "bc-772---caicedonia",
         "BC 772 - Caicedonia"
        ],
        [
         "2025-03-03 00:00:00-05:00",
         "20.0",
         "tr",
         "bc-772---caicedonia",
         "BC 772 - Caicedonia"
        ],
        [
         "2025-03-03 00:00:00-05:00",
         "299.21",
         "area",
         "bc-772---caicedonia",
         "BC 772 - Caicedonia"
        ],
        [
         "2025-03-03 00:00:00-05:00",
         "16216.0",
         "consumo-energia-reactiva-capacitiva",
         "bc90t",
         "BC 388 - CC Hayuelos"
        ],
        [
         "2025-03-03 00:00:00-05:00",
         "0.0",
         "aa-potencia-activa",
         "bc-479---pamplona",
         "BC 479 - Pamplona"
        ],
        [
         "2025-03-03 00:00:00-05:00",
         "2.8799999999998818",
         "ilu-consumo-activa",
         "bc-479---pamplona",
         "BC 479 - Pamplona"
        ],
        [
         "2025-03-03 00:00:00-05:00",
         "3.0",
         "front-consumo-activa",
         "bc-479---pamplona",
         "BC 479 - Pamplona"
        ],
        [
         "2025-03-03 00:00:00-05:00",
         "0.1200000000001182",
         "aa-consumo-activa",
         "bc-479---pamplona",
         "BC 479 - Pamplona"
        ],
        [
         "2025-03-03 00:00:00-05:00",
         "3.0",
         "front-consumo-activa",
         "bc-681---cerete",
         "BC 681 - Cerete"
        ],
        [
         "2025-03-03 00:00:00-05:00",
         "0.0",
         "aa-consumo-activa",
         "bc-681---cerete",
         "BC 681 - Cerete"
        ],
        [
         "2025-03-03 00:00:00-05:00",
         "0.0",
         "aa-potencia-activa",
         "bc-681---cerete",
         "BC 681 - Cerete"
        ]
       ],
       "shape": {
        "columns": 4,
        "rows": 566325
       }
      },
      "text/html": [
       "<div>\n",
       "<style scoped>\n",
       "    .dataframe tbody tr th:only-of-type {\n",
       "        vertical-align: middle;\n",
       "    }\n",
       "\n",
       "    .dataframe tbody tr th {\n",
       "        vertical-align: top;\n",
       "    }\n",
       "\n",
       "    .dataframe thead th {\n",
       "        text-align: right;\n",
       "    }\n",
       "</style>\n",
       "<table border=\"1\" class=\"dataframe\">\n",
       "  <thead>\n",
       "    <tr style=\"text-align: right;\">\n",
       "      <th></th>\n",
       "      <th>value</th>\n",
       "      <th>variable</th>\n",
       "      <th>device</th>\n",
       "      <th>device_name</th>\n",
       "    </tr>\n",
       "    <tr>\n",
       "      <th>datetime</th>\n",
       "      <th></th>\n",
       "      <th></th>\n",
       "      <th></th>\n",
       "      <th></th>\n",
       "    </tr>\n",
       "  </thead>\n",
       "  <tbody>\n",
       "    <tr>\n",
       "      <th>2025-03-03 00:00:00-05:00</th>\n",
       "      <td>5.60</td>\n",
       "      <td>front-potencia-activa</td>\n",
       "      <td>bc80t</td>\n",
       "      <td>BC 689 - Metropolis</td>\n",
       "    </tr>\n",
       "    <tr>\n",
       "      <th>2025-03-03 00:00:00-05:00</th>\n",
       "      <td>20.00</td>\n",
       "      <td>tr</td>\n",
       "      <td>bc90t</td>\n",
       "      <td>BC 388 - CC Hayuelos</td>\n",
       "    </tr>\n",
       "    <tr>\n",
       "      <th>2025-03-03 00:00:00-05:00</th>\n",
       "      <td>0.00</td>\n",
       "      <td>ilu-consumo-activa</td>\n",
       "      <td>bc90t</td>\n",
       "      <td>BC 388 - CC Hayuelos</td>\n",
       "    </tr>\n",
       "    <tr>\n",
       "      <th>2025-03-03 00:00:00-05:00</th>\n",
       "      <td>10.00</td>\n",
       "      <td>tr</td>\n",
       "      <td>bc-673---calle-80</td>\n",
       "      <td>BC 673 - Calle 80</td>\n",
       "    </tr>\n",
       "    <tr>\n",
       "      <th>2025-03-03 00:00:00-05:00</th>\n",
       "      <td>4.35</td>\n",
       "      <td>aa-potencia-activa</td>\n",
       "      <td>bc---metropolitan</td>\n",
       "      <td>BC - Metropolitan</td>\n",
       "    </tr>\n",
       "    <tr>\n",
       "      <th>...</th>\n",
       "      <td>...</td>\n",
       "      <td>...</td>\n",
       "      <td>...</td>\n",
       "      <td>...</td>\n",
       "    </tr>\n",
       "    <tr>\n",
       "      <th>2025-03-10 00:00:00-05:00</th>\n",
       "      <td>10.40</td>\n",
       "      <td>front-potencia-activa</td>\n",
       "      <td>bc-554---mall-plaza-buenavista</td>\n",
       "      <td>BC 554 - Mall Plaza Buenavista</td>\n",
       "    </tr>\n",
       "    <tr>\n",
       "      <th>2025-03-10 00:00:00-05:00</th>\n",
       "      <td>2.00</td>\n",
       "      <td>front-consumo-activa</td>\n",
       "      <td>bc-772---caicedonia</td>\n",
       "      <td>BC 772 - Caicedonia</td>\n",
       "    </tr>\n",
       "    <tr>\n",
       "      <th>2025-03-10 00:00:00-05:00</th>\n",
       "      <td>1.80</td>\n",
       "      <td>front-potencia-activa</td>\n",
       "      <td>bc-772---caicedonia</td>\n",
       "      <td>BC 772 - Caicedonia</td>\n",
       "    </tr>\n",
       "    <tr>\n",
       "      <th>2025-03-10 00:00:00-05:00</th>\n",
       "      <td>365.80</td>\n",
       "      <td>area</td>\n",
       "      <td>bc90t</td>\n",
       "      <td>BC 388 - CC Hayuelos</td>\n",
       "    </tr>\n",
       "    <tr>\n",
       "      <th>2025-03-10 00:00:00-05:00</th>\n",
       "      <td>8.40</td>\n",
       "      <td>front-potencia-activa</td>\n",
       "      <td>bc---metropolitan</td>\n",
       "      <td>BC - Metropolitan</td>\n",
       "    </tr>\n",
       "  </tbody>\n",
       "</table>\n",
       "<p>566325 rows × 4 columns</p>\n",
       "</div>"
      ],
      "text/plain": [
       "                            value               variable  \\\n",
       "datetime                                                   \n",
       "2025-03-03 00:00:00-05:00    5.60  front-potencia-activa   \n",
       "2025-03-03 00:00:00-05:00   20.00                     tr   \n",
       "2025-03-03 00:00:00-05:00    0.00     ilu-consumo-activa   \n",
       "2025-03-03 00:00:00-05:00   10.00                     tr   \n",
       "2025-03-03 00:00:00-05:00    4.35     aa-potencia-activa   \n",
       "...                           ...                    ...   \n",
       "2025-03-10 00:00:00-05:00   10.40  front-potencia-activa   \n",
       "2025-03-10 00:00:00-05:00    2.00   front-consumo-activa   \n",
       "2025-03-10 00:00:00-05:00    1.80  front-potencia-activa   \n",
       "2025-03-10 00:00:00-05:00  365.80                   area   \n",
       "2025-03-10 00:00:00-05:00    8.40  front-potencia-activa   \n",
       "\n",
       "                                                   device  \\\n",
       "datetime                                                    \n",
       "2025-03-03 00:00:00-05:00                           bc80t   \n",
       "2025-03-03 00:00:00-05:00                           bc90t   \n",
       "2025-03-03 00:00:00-05:00                           bc90t   \n",
       "2025-03-03 00:00:00-05:00               bc-673---calle-80   \n",
       "2025-03-03 00:00:00-05:00               bc---metropolitan   \n",
       "...                                                   ...   \n",
       "2025-03-10 00:00:00-05:00  bc-554---mall-plaza-buenavista   \n",
       "2025-03-10 00:00:00-05:00             bc-772---caicedonia   \n",
       "2025-03-10 00:00:00-05:00             bc-772---caicedonia   \n",
       "2025-03-10 00:00:00-05:00                           bc90t   \n",
       "2025-03-10 00:00:00-05:00               bc---metropolitan   \n",
       "\n",
       "                                              device_name  \n",
       "datetime                                                   \n",
       "2025-03-03 00:00:00-05:00             BC 689 - Metropolis  \n",
       "2025-03-03 00:00:00-05:00            BC 388 - CC Hayuelos  \n",
       "2025-03-03 00:00:00-05:00            BC 388 - CC Hayuelos  \n",
       "2025-03-03 00:00:00-05:00               BC 673 - Calle 80  \n",
       "2025-03-03 00:00:00-05:00               BC - Metropolitan  \n",
       "...                                                   ...  \n",
       "2025-03-10 00:00:00-05:00  BC 554 - Mall Plaza Buenavista  \n",
       "2025-03-10 00:00:00-05:00             BC 772 - Caicedonia  \n",
       "2025-03-10 00:00:00-05:00             BC 772 - Caicedonia  \n",
       "2025-03-10 00:00:00-05:00            BC 388 - CC Hayuelos  \n",
       "2025-03-10 00:00:00-05:00               BC - Metropolitan  \n",
       "\n",
       "[566325 rows x 4 columns]"
      ]
     },
     "execution_count": 27,
     "metadata": {},
     "output_type": "execute_result"
    }
   ],
   "source": [
    "df.sort_index()"
   ]
  },
  {
   "cell_type": "code",
   "execution_count": 28,
   "metadata": {},
   "outputs": [
    {
     "data": {
      "application/vnd.microsoft.datawrangler.viewer.v0+json": {
       "columns": [
        {
         "name": "datetime",
         "rawType": "datetime64[ns, America/Bogota]",
         "type": "unknown"
        },
        {
         "name": "value",
         "rawType": "float64",
         "type": "float"
        },
        {
         "name": "variable",
         "rawType": "object",
         "type": "string"
        },
        {
         "name": "device",
         "rawType": "object",
         "type": "string"
        },
        {
         "name": "device_name",
         "rawType": "object",
         "type": "string"
        }
       ],
       "conversionMethod": "pd.DataFrame",
       "ref": "675829c8-1c83-46a7-a76f-97b77341b47f",
       "rows": [
        [
         "2023-12-01 00:00:00-05:00",
         "7.0",
         "front-consumo-activa",
         "bc90t",
         "BC 388 - CC Hayuelos"
        ],
        [
         "2023-12-01 00:00:00-05:00",
         "0.7300000000000182",
         "aa-consumo-activa",
         "bc80t",
         "BC 689 - Metropolis"
        ],
        [
         "2023-12-01 00:00:00-05:00",
         "2.0",
         "front-consumo-activa",
         "bc80t",
         "BC 689 - Metropolis"
        ],
        [
         "2023-12-01 00:00:00-05:00",
         "0.0058394160583942",
         "kw-tr",
         "bc80t",
         "BC 689 - Metropolis"
        ],
        [
         "2023-12-01 00:00:00-05:00",
         "2.25",
         "aa-potencia-activa",
         "bc88t",
         "BC 332 - Zipaquira"
        ],
        [
         "2023-12-01 00:00:00-05:00",
         "2.1000000000000227",
         "aa-consumo-activa",
         "bc88t",
         "BC 332 - Zipaquira"
        ],
        [
         "2023-12-01 00:00:00-05:00",
         "180.18",
         "area",
         "bc89t",
         "BC 384 - Anapoima"
        ],
        [
         "2023-12-01 00:00:00-05:00",
         "0.99",
         "factor-de-potencia",
         "bc88t",
         "BC 332 - Zipaquira"
        ],
        [
         "2023-12-01 00:00:00-05:00",
         "2.2",
         "front-potencia-activa",
         "bc89t",
         "BC 384 - Anapoima"
        ],
        [
         "2023-12-01 00:00:00-05:00",
         "0.1499999999999986",
         "ilu-consumo-activa",
         "bc88t",
         "BC 332 - Zipaquira"
        ],
        [
         "2023-12-01 00:00:00-05:00",
         "293.0",
         "consumo-energia-reactiva-inductiva",
         "bc90t",
         "BC 388 - CC Hayuelos"
        ],
        [
         "2023-12-01 00:00:00-05:00",
         "1.0",
         "factor-de-potencia",
         "bc85t",
         "BC 802 - Puerto Lopez"
        ],
        [
         "2023-12-01 00:00:00-05:00",
         "0.99",
         "factor-de-potencia",
         "bc90t",
         "BC 388 - CC Hayuelos"
        ],
        [
         "2023-12-01 00:00:00-05:00",
         "2.8",
         "front-potencia-activa",
         "bc88t",
         "BC 332 - Zipaquira"
        ],
        [
         "2023-12-01 00:00:00-05:00",
         "37.0",
         "tr",
         "bc89t",
         "BC 384 - Anapoima"
        ],
        [
         "2023-12-01 00:00:00-05:00",
         "365.8",
         "area",
         "bc90t",
         "BC 388 - CC Hayuelos"
        ],
        [
         "2023-12-01 00:00:00-05:00",
         "2.0",
         "front-consumo-activa",
         "bc89t",
         "BC 384 - Anapoima"
        ],
        [
         "2023-12-01 00:00:00-05:00",
         "3.9199999999998454",
         "aa-consumo-activa",
         "bc84t",
         "BC 367 - Granada Meta"
        ],
        [
         "2023-12-01 00:00:00-05:00",
         "249.18",
         "area",
         "bc85t",
         "BC 802 - Puerto Lopez"
        ],
        [
         "2023-12-01 00:00:00-05:00",
         "8.0",
         "front-potencia-activa",
         "bc84t",
         "BC 367 - Granada Meta"
        ],
        [
         "2023-12-01 00:00:00-05:00",
         "0.6999999999999997",
         "ilu-consumo-activa",
         "bc89t",
         "BC 384 - Anapoima"
        ],
        [
         "2023-12-01 00:00:00-05:00",
         "0.8999999999999773",
         "aa-consumo-activa",
         "bc85t",
         "BC 802 - Puerto Lopez"
        ],
        [
         "2023-12-01 00:00:00-05:00",
         "0.7",
         "ilu-potencia-activa",
         "bc89t",
         "BC 384 - Anapoima"
        ],
        [
         "2023-12-01 00:00:00-05:00",
         "0.99",
         "factor-de-potencia",
         "bc89t",
         "BC 384 - Anapoima"
        ],
        [
         "2023-12-01 00:00:00-05:00",
         "2.6",
         "front-potencia-activa",
         "bc85t",
         "BC 802 - Puerto Lopez"
        ],
        [
         "2023-12-01 00:00:00-05:00",
         "10.000000000000009",
         "front-consumo-activa",
         "bc85t",
         "BC 802 - Puerto Lopez"
        ],
        [
         "2023-12-01 00:00:00-05:00",
         "44.5",
         "tr",
         "bc84t",
         "BC 367 - Granada Meta"
        ],
        [
         "2023-12-01 00:00:00-05:00",
         "0.0067567567567568",
         "kw-tr",
         "bc89t",
         "BC 384 - Anapoima"
        ],
        [
         "2023-12-01 00:00:00-05:00",
         "0.9",
         "aa-potencia-activa",
         "bc90t",
         "BC 388 - CC Hayuelos"
        ],
        [
         "2023-12-01 00:00:00-05:00",
         "3.996",
         "aa-consumo-activa",
         "bc90t",
         "BC 388 - CC Hayuelos"
        ],
        [
         "2023-12-01 00:00:00-05:00",
         "0.8",
         "front-potencia-activa",
         "bc80t",
         "BC 689 - Metropolis"
        ],
        [
         "2023-12-01 00:00:00-05:00",
         "0.99",
         "factor-de-potencia",
         "bc80t",
         "BC 689 - Metropolis"
        ],
        [
         "2023-12-01 00:00:00-05:00",
         "1.0",
         "consumo-energia-reactiva-capacitiva",
         "bc89t",
         "BC 384 - Anapoima"
        ],
        [
         "2023-12-01 00:00:00-05:00",
         "6.0",
         "front-consumo-activa",
         "bc84t",
         "BC 367 - Granada Meta"
        ],
        [
         "2023-12-01 00:00:00-05:00",
         "0.045",
         "kw-tr",
         "bc90t",
         "BC 388 - CC Hayuelos"
        ],
        [
         "2023-12-01 00:00:00-05:00",
         "48.0",
         "tr",
         "bc88t",
         "BC 332 - Zipaquira"
        ],
        [
         "2023-12-01 00:00:00-05:00",
         "0.0",
         "ilu-consumo-activa",
         "bc90t",
         "BC 388 - CC Hayuelos"
        ],
        [
         "2023-12-01 00:00:00-05:00",
         "20.0",
         "tr",
         "bc90t",
         "BC 388 - CC Hayuelos"
        ],
        [
         "2023-12-01 00:00:00-05:00",
         "3.6",
         "front-potencia-activa",
         "bc90t",
         "BC 388 - CC Hayuelos"
        ],
        [
         "2023-12-01 00:00:00-05:00",
         "0.2",
         "aa-potencia-activa",
         "bc80t",
         "BC 689 - Metropolis"
        ],
        [
         "2023-12-01 00:00:00-05:00",
         "463.3",
         "area",
         "bc88t",
         "BC 332 - Zipaquira"
        ],
        [
         "2023-12-01 00:00:00-05:00",
         "743.0",
         "consumo-energia-reactiva-capacitiva",
         "bc90t",
         "BC 388 - CC Hayuelos"
        ],
        [
         "2023-12-01 00:00:00-05:00",
         "369.74",
         "area",
         "bc80t",
         "BC 689 - Metropolis"
        ],
        [
         "2023-12-01 00:00:00-05:00",
         "0.25",
         "aa-potencia-activa",
         "bc89t",
         "BC 384 - Anapoima"
        ],
        [
         "2023-12-01 00:00:00-05:00",
         "1.740000000000009",
         "ilu-consumo-activa",
         "bc80t",
         "BC 689 - Metropolis"
        ],
        [
         "2023-12-01 00:00:00-05:00",
         "725.31",
         "area",
         "bc84t",
         "BC 367 - Granada Meta"
        ],
        [
         "2023-12-01 00:00:00-05:00",
         "34.25",
         "tr",
         "bc80t",
         "BC 689 - Metropolis"
        ],
        [
         "2023-12-01 00:00:00-05:00",
         "0.046875",
         "kw-tr",
         "bc88t",
         "BC 332 - Zipaquira"
        ],
        [
         "2023-12-01 00:00:00-05:00",
         "0.2600000000000007",
         "aa-consumo-activa",
         "bc89t",
         "BC 384 - Anapoima"
        ],
        [
         "2023-12-01 00:00:00-05:00",
         "0.0",
         "ilu-consumo-activa",
         "bc84t",
         "BC 367 - Granada Meta"
        ]
       ],
       "shape": {
        "columns": 4,
        "rows": 26523102
       }
      },
      "text/html": [
       "<div>\n",
       "<style scoped>\n",
       "    .dataframe tbody tr th:only-of-type {\n",
       "        vertical-align: middle;\n",
       "    }\n",
       "\n",
       "    .dataframe tbody tr th {\n",
       "        vertical-align: top;\n",
       "    }\n",
       "\n",
       "    .dataframe thead th {\n",
       "        text-align: right;\n",
       "    }\n",
       "</style>\n",
       "<table border=\"1\" class=\"dataframe\">\n",
       "  <thead>\n",
       "    <tr style=\"text-align: right;\">\n",
       "      <th></th>\n",
       "      <th>value</th>\n",
       "      <th>variable</th>\n",
       "      <th>device</th>\n",
       "      <th>device_name</th>\n",
       "    </tr>\n",
       "    <tr>\n",
       "      <th>datetime</th>\n",
       "      <th></th>\n",
       "      <th></th>\n",
       "      <th></th>\n",
       "      <th></th>\n",
       "    </tr>\n",
       "  </thead>\n",
       "  <tbody>\n",
       "    <tr>\n",
       "      <th>2023-12-01 00:00:00-05:00</th>\n",
       "      <td>7.000000</td>\n",
       "      <td>front-consumo-activa</td>\n",
       "      <td>bc90t</td>\n",
       "      <td>BC 388 - CC Hayuelos</td>\n",
       "    </tr>\n",
       "    <tr>\n",
       "      <th>2023-12-01 00:00:00-05:00</th>\n",
       "      <td>0.730000</td>\n",
       "      <td>aa-consumo-activa</td>\n",
       "      <td>bc80t</td>\n",
       "      <td>BC 689 - Metropolis</td>\n",
       "    </tr>\n",
       "    <tr>\n",
       "      <th>2023-12-01 00:00:00-05:00</th>\n",
       "      <td>2.000000</td>\n",
       "      <td>front-consumo-activa</td>\n",
       "      <td>bc80t</td>\n",
       "      <td>BC 689 - Metropolis</td>\n",
       "    </tr>\n",
       "    <tr>\n",
       "      <th>2023-12-01 00:00:00-05:00</th>\n",
       "      <td>0.005839</td>\n",
       "      <td>kw-tr</td>\n",
       "      <td>bc80t</td>\n",
       "      <td>BC 689 - Metropolis</td>\n",
       "    </tr>\n",
       "    <tr>\n",
       "      <th>2023-12-01 00:00:00-05:00</th>\n",
       "      <td>2.250000</td>\n",
       "      <td>aa-potencia-activa</td>\n",
       "      <td>bc88t</td>\n",
       "      <td>BC 332 - Zipaquira</td>\n",
       "    </tr>\n",
       "    <tr>\n",
       "      <th>...</th>\n",
       "      <td>...</td>\n",
       "      <td>...</td>\n",
       "      <td>...</td>\n",
       "      <td>...</td>\n",
       "    </tr>\n",
       "    <tr>\n",
       "      <th>2025-03-10 00:00:00-05:00</th>\n",
       "      <td>2.720000</td>\n",
       "      <td>front-consumo-activa</td>\n",
       "      <td>bc-478---mix-via-40</td>\n",
       "      <td>BC 478 - Mix Vía 40</td>\n",
       "    </tr>\n",
       "    <tr>\n",
       "      <th>2025-03-10 00:00:00-05:00</th>\n",
       "      <td>0.720000</td>\n",
       "      <td>aa-consumo-activa</td>\n",
       "      <td>bc-478---mix-via-40</td>\n",
       "      <td>BC 478 - Mix Vía 40</td>\n",
       "    </tr>\n",
       "    <tr>\n",
       "      <th>2025-03-10 00:00:00-05:00</th>\n",
       "      <td>0.460000</td>\n",
       "      <td>ilu-consumo-activa</td>\n",
       "      <td>bc-478---mix-via-40</td>\n",
       "      <td>BC 478 - Mix Vía 40</td>\n",
       "    </tr>\n",
       "    <tr>\n",
       "      <th>2025-03-10 00:00:00-05:00</th>\n",
       "      <td>0.050000</td>\n",
       "      <td>kw-tr</td>\n",
       "      <td>bc88t</td>\n",
       "      <td>BC 332 - Zipaquira</td>\n",
       "    </tr>\n",
       "    <tr>\n",
       "      <th>2025-03-10 00:00:00-05:00</th>\n",
       "      <td>0.100000</td>\n",
       "      <td>aa-potencia-activa</td>\n",
       "      <td>bc-772---caicedonia</td>\n",
       "      <td>BC 772 - Caicedonia</td>\n",
       "    </tr>\n",
       "  </tbody>\n",
       "</table>\n",
       "<p>26523102 rows × 4 columns</p>\n",
       "</div>"
      ],
      "text/plain": [
       "                              value              variable  \\\n",
       "datetime                                                    \n",
       "2023-12-01 00:00:00-05:00  7.000000  front-consumo-activa   \n",
       "2023-12-01 00:00:00-05:00  0.730000     aa-consumo-activa   \n",
       "2023-12-01 00:00:00-05:00  2.000000  front-consumo-activa   \n",
       "2023-12-01 00:00:00-05:00  0.005839                 kw-tr   \n",
       "2023-12-01 00:00:00-05:00  2.250000    aa-potencia-activa   \n",
       "...                             ...                   ...   \n",
       "2025-03-10 00:00:00-05:00  2.720000  front-consumo-activa   \n",
       "2025-03-10 00:00:00-05:00  0.720000     aa-consumo-activa   \n",
       "2025-03-10 00:00:00-05:00  0.460000    ilu-consumo-activa   \n",
       "2025-03-10 00:00:00-05:00  0.050000                 kw-tr   \n",
       "2025-03-10 00:00:00-05:00  0.100000    aa-potencia-activa   \n",
       "\n",
       "                                        device           device_name  \n",
       "datetime                                                              \n",
       "2023-12-01 00:00:00-05:00                bc90t  BC 388 - CC Hayuelos  \n",
       "2023-12-01 00:00:00-05:00                bc80t   BC 689 - Metropolis  \n",
       "2023-12-01 00:00:00-05:00                bc80t   BC 689 - Metropolis  \n",
       "2023-12-01 00:00:00-05:00                bc80t   BC 689 - Metropolis  \n",
       "2023-12-01 00:00:00-05:00                bc88t    BC 332 - Zipaquira  \n",
       "...                                        ...                   ...  \n",
       "2025-03-10 00:00:00-05:00  bc-478---mix-via-40   BC 478 - Mix Vía 40  \n",
       "2025-03-10 00:00:00-05:00  bc-478---mix-via-40   BC 478 - Mix Vía 40  \n",
       "2025-03-10 00:00:00-05:00  bc-478---mix-via-40   BC 478 - Mix Vía 40  \n",
       "2025-03-10 00:00:00-05:00                bc88t    BC 332 - Zipaquira  \n",
       "2025-03-10 00:00:00-05:00  bc-772---caicedonia   BC 772 - Caicedonia  \n",
       "\n",
       "[26523102 rows x 4 columns]"
      ]
     },
     "execution_count": 28,
     "metadata": {},
     "output_type": "execute_result"
    }
   ],
   "source": [
    "df1.sort_index()"
   ]
  },
  {
   "cell_type": "code",
   "execution_count": 29,
   "metadata": {},
   "outputs": [],
   "source": [
    "#Unir el dataframe dfprogress: 30.5%Response status code: 200Progress: 34.8%Response status code: 200Progress: 39.1%Response status code: 200Progress: 43.3%Response status code: 200 y df1 en uno que se llame df_full / esto es para mas adelante\n",
    "df = pd.concat([df1, df], axis=0, ignore_index=False)\n",
    "\n",
    "# para quitar el indixe de \"datatime\" y volverlo columna \n",
    "df.reset_index(inplace=True)\n",
    "\n",
    "# Quitar duplicados \n",
    "df = df.drop_duplicates()\n",
    "\n",
    "# Establecer la columna \"datetime\" como el índice\n",
    "df.set_index('datetime', inplace=True)\n"
   ]
  },
  {
   "cell_type": "markdown",
   "metadata": {},
   "source": []
  },
  {
   "cell_type": "code",
   "execution_count": 30,
   "metadata": {},
   "outputs": [],
   "source": [
    "pd.to_pickle(df, project_path / 'data'/ _PICKLED_DATA_FILENAME)"
   ]
  },
  {
   "cell_type": "code",
   "execution_count": 31,
   "metadata": {},
   "outputs": [
    {
     "data": {
      "application/vnd.microsoft.datawrangler.viewer.v0+json": {
       "columns": [
        {
         "name": "datetime",
         "rawType": "datetime64[ns, America/Bogota]",
         "type": "unknown"
        },
        {
         "name": "value",
         "rawType": "float64",
         "type": "float"
        },
        {
         "name": "variable",
         "rawType": "object",
         "type": "string"
        },
        {
         "name": "device",
         "rawType": "object",
         "type": "string"
        },
        {
         "name": "device_name",
         "rawType": "object",
         "type": "string"
        }
       ],
       "conversionMethod": "pd.DataFrame",
       "ref": "667c1516-4e8e-4554-b486-42934a3a19e3",
       "rows": [
        [
         "2023-12-01 00:00:00-05:00",
         "8.0",
         "front-potencia-activa",
         "bc84t",
         "BC 367 - Granada Meta"
        ],
        [
         "2023-12-01 00:00:00-05:00",
         "180.18",
         "area",
         "bc89t",
         "BC 384 - Anapoima"
        ],
        [
         "2023-12-01 00:00:00-05:00",
         "2.1000000000000227",
         "aa-consumo-activa",
         "bc88t",
         "BC 332 - Zipaquira"
        ],
        [
         "2023-12-01 00:00:00-05:00",
         "2.25",
         "aa-potencia-activa",
         "bc88t",
         "BC 332 - Zipaquira"
        ],
        [
         "2023-12-01 00:00:00-05:00",
         "2.6",
         "front-potencia-activa",
         "bc85t",
         "BC 802 - Puerto Lopez"
        ],
        [
         "2023-12-01 00:00:00-05:00",
         "6.0",
         "front-consumo-activa",
         "bc84t",
         "BC 367 - Granada Meta"
        ],
        [
         "2023-12-01 00:00:00-05:00",
         "743.0",
         "consumo-energia-reactiva-capacitiva",
         "bc90t",
         "BC 388 - CC Hayuelos"
        ],
        [
         "2023-12-01 00:00:00-05:00",
         "0.0",
         "ilu-consumo-activa",
         "bc84t",
         "BC 367 - Granada Meta"
        ],
        [
         "2023-12-01 00:00:00-05:00",
         "44.5",
         "tr",
         "bc84t",
         "BC 367 - Granada Meta"
        ],
        [
         "2023-12-01 00:00:00-05:00",
         "0.25",
         "aa-potencia-activa",
         "bc89t",
         "BC 384 - Anapoima"
        ],
        [
         "2023-12-01 00:00:00-05:00",
         "0.2600000000000007",
         "aa-consumo-activa",
         "bc89t",
         "BC 384 - Anapoima"
        ],
        [
         "2023-12-01 00:00:00-05:00",
         "463.3",
         "area",
         "bc88t",
         "BC 332 - Zipaquira"
        ],
        [
         "2023-12-01 00:00:00-05:00",
         "2.0",
         "front-consumo-activa",
         "bc88t",
         "BC 332 - Zipaquira"
        ],
        [
         "2023-12-01 00:00:00-05:00",
         "48.0",
         "tr",
         "bc88t",
         "BC 332 - Zipaquira"
        ],
        [
         "2023-12-01 00:00:00-05:00",
         "0.99",
         "factor-de-potencia",
         "bc84t",
         "BC 367 - Granada Meta"
        ],
        [
         "2023-12-01 00:00:00-05:00",
         "725.31",
         "area",
         "bc84t",
         "BC 367 - Granada Meta"
        ],
        [
         "2023-12-01 00:00:00-05:00",
         "3.6",
         "front-potencia-activa",
         "bc90t",
         "BC 388 - CC Hayuelos"
        ],
        [
         "2023-12-01 00:00:00-05:00",
         "34.25",
         "tr",
         "bc80t",
         "BC 689 - Metropolis"
        ],
        [
         "2023-12-01 00:00:00-05:00",
         "0.046875",
         "kw-tr",
         "bc88t",
         "BC 332 - Zipaquira"
        ],
        [
         "2023-12-01 00:00:00-05:00",
         "0.99",
         "factor-de-potencia",
         "bc90t",
         "BC 388 - CC Hayuelos"
        ],
        [
         "2023-12-01 00:00:00-05:00",
         "0.7300000000000182",
         "aa-consumo-activa",
         "bc80t",
         "BC 689 - Metropolis"
        ],
        [
         "2023-12-01 00:00:00-05:00",
         "2.2",
         "front-potencia-activa",
         "bc89t",
         "BC 384 - Anapoima"
        ],
        [
         "2023-12-01 00:00:00-05:00",
         "0.2",
         "aa-potencia-activa",
         "bc80t",
         "BC 689 - Metropolis"
        ],
        [
         "2023-12-01 00:00:00-05:00",
         "1.0",
         "factor-de-potencia",
         "bc85t",
         "BC 802 - Puerto Lopez"
        ],
        [
         "2023-12-01 00:00:00-05:00",
         "1.740000000000009",
         "ilu-consumo-activa",
         "bc80t",
         "BC 689 - Metropolis"
        ],
        [
         "2023-12-01 00:00:00-05:00",
         "1.85",
         "ilu-potencia-activa",
         "bc80t",
         "BC 689 - Metropolis"
        ],
        [
         "2023-12-01 00:00:00-05:00",
         "0.99",
         "factor-de-potencia",
         "bc89t",
         "BC 384 - Anapoima"
        ],
        [
         "2023-12-01 00:00:00-05:00",
         "1.0",
         "consumo-energia-reactiva-capacitiva",
         "bc89t",
         "BC 384 - Anapoima"
        ],
        [
         "2023-12-01 00:00:00-05:00",
         "0.0",
         "ilu-consumo-activa",
         "bc90t",
         "BC 388 - CC Hayuelos"
        ],
        [
         "2023-12-01 00:00:00-05:00",
         "10.000000000000009",
         "front-consumo-activa",
         "bc85t",
         "BC 802 - Puerto Lopez"
        ],
        [
         "2023-12-01 00:00:00-05:00",
         "0.0067567567567568",
         "kw-tr",
         "bc89t",
         "BC 384 - Anapoima"
        ],
        [
         "2023-12-01 00:00:00-05:00",
         "249.18",
         "area",
         "bc85t",
         "BC 802 - Puerto Lopez"
        ],
        [
         "2023-12-01 00:00:00-05:00",
         "2.0",
         "front-consumo-activa",
         "bc89t",
         "BC 384 - Anapoima"
        ],
        [
         "2023-12-01 00:00:00-05:00",
         "20.0",
         "tr",
         "bc90t",
         "BC 388 - CC Hayuelos"
        ],
        [
         "2023-12-01 00:00:00-05:00",
         "0.8999999999999773",
         "aa-consumo-activa",
         "bc85t",
         "BC 802 - Puerto Lopez"
        ],
        [
         "2023-12-01 00:00:00-05:00",
         "0.6999999999999997",
         "ilu-consumo-activa",
         "bc89t",
         "BC 384 - Anapoima"
        ],
        [
         "2023-12-01 00:00:00-05:00",
         "37.0",
         "tr",
         "bc89t",
         "BC 384 - Anapoima"
        ],
        [
         "2023-12-01 00:00:00-05:00",
         "0.7",
         "ilu-potencia-activa",
         "bc89t",
         "BC 384 - Anapoima"
        ],
        [
         "2023-12-01 00:00:00-05:00",
         "2.8",
         "front-potencia-activa",
         "bc88t",
         "BC 332 - Zipaquira"
        ],
        [
         "2023-12-01 00:00:00-05:00",
         "0.045",
         "kw-tr",
         "bc90t",
         "BC 388 - CC Hayuelos"
        ],
        [
         "2023-12-01 00:00:00-05:00",
         "7.0",
         "front-consumo-activa",
         "bc90t",
         "BC 388 - CC Hayuelos"
        ],
        [
         "2023-12-01 00:00:00-05:00",
         "2.0",
         "front-consumo-activa",
         "bc80t",
         "BC 689 - Metropolis"
        ],
        [
         "2023-12-01 00:00:00-05:00",
         "0.0058394160583942",
         "kw-tr",
         "bc80t",
         "BC 689 - Metropolis"
        ],
        [
         "2023-12-01 00:00:00-05:00",
         "293.0",
         "consumo-energia-reactiva-inductiva",
         "bc90t",
         "BC 388 - CC Hayuelos"
        ],
        [
         "2023-12-01 00:00:00-05:00",
         "3.9199999999998454",
         "aa-consumo-activa",
         "bc84t",
         "BC 367 - Granada Meta"
        ],
        [
         "2023-12-01 00:00:00-05:00",
         "369.74",
         "area",
         "bc80t",
         "BC 689 - Metropolis"
        ],
        [
         "2023-12-01 00:00:00-05:00",
         "0.99",
         "factor-de-potencia",
         "bc80t",
         "BC 689 - Metropolis"
        ],
        [
         "2023-12-01 00:00:00-05:00",
         "0.8",
         "front-potencia-activa",
         "bc80t",
         "BC 689 - Metropolis"
        ],
        [
         "2023-12-01 00:00:00-05:00",
         "0.99",
         "factor-de-potencia",
         "bc88t",
         "BC 332 - Zipaquira"
        ],
        [
         "2023-12-01 00:00:00-05:00",
         "0.1499999999999986",
         "ilu-consumo-activa",
         "bc88t",
         "BC 332 - Zipaquira"
        ]
       ],
       "shape": {
        "columns": 4,
        "rows": 26525195
       }
      },
      "text/html": [
       "<div>\n",
       "<style scoped>\n",
       "    .dataframe tbody tr th:only-of-type {\n",
       "        vertical-align: middle;\n",
       "    }\n",
       "\n",
       "    .dataframe tbody tr th {\n",
       "        vertical-align: top;\n",
       "    }\n",
       "\n",
       "    .dataframe thead th {\n",
       "        text-align: right;\n",
       "    }\n",
       "</style>\n",
       "<table border=\"1\" class=\"dataframe\">\n",
       "  <thead>\n",
       "    <tr style=\"text-align: right;\">\n",
       "      <th></th>\n",
       "      <th>value</th>\n",
       "      <th>variable</th>\n",
       "      <th>device</th>\n",
       "      <th>device_name</th>\n",
       "    </tr>\n",
       "    <tr>\n",
       "      <th>datetime</th>\n",
       "      <th></th>\n",
       "      <th></th>\n",
       "      <th></th>\n",
       "      <th></th>\n",
       "    </tr>\n",
       "  </thead>\n",
       "  <tbody>\n",
       "    <tr>\n",
       "      <th>2023-12-01 00:00:00-05:00</th>\n",
       "      <td>8.00</td>\n",
       "      <td>front-potencia-activa</td>\n",
       "      <td>bc84t</td>\n",
       "      <td>BC 367 - Granada Meta</td>\n",
       "    </tr>\n",
       "    <tr>\n",
       "      <th>2023-12-01 00:00:00-05:00</th>\n",
       "      <td>180.18</td>\n",
       "      <td>area</td>\n",
       "      <td>bc89t</td>\n",
       "      <td>BC 384 - Anapoima</td>\n",
       "    </tr>\n",
       "    <tr>\n",
       "      <th>2023-12-01 00:00:00-05:00</th>\n",
       "      <td>2.10</td>\n",
       "      <td>aa-consumo-activa</td>\n",
       "      <td>bc88t</td>\n",
       "      <td>BC 332 - Zipaquira</td>\n",
       "    </tr>\n",
       "    <tr>\n",
       "      <th>2023-12-01 00:00:00-05:00</th>\n",
       "      <td>2.25</td>\n",
       "      <td>aa-potencia-activa</td>\n",
       "      <td>bc88t</td>\n",
       "      <td>BC 332 - Zipaquira</td>\n",
       "    </tr>\n",
       "    <tr>\n",
       "      <th>2023-12-01 00:00:00-05:00</th>\n",
       "      <td>2.60</td>\n",
       "      <td>front-potencia-activa</td>\n",
       "      <td>bc85t</td>\n",
       "      <td>BC 802 - Puerto Lopez</td>\n",
       "    </tr>\n",
       "    <tr>\n",
       "      <th>...</th>\n",
       "      <td>...</td>\n",
       "      <td>...</td>\n",
       "      <td>...</td>\n",
       "      <td>...</td>\n",
       "    </tr>\n",
       "    <tr>\n",
       "      <th>2025-03-10 00:00:00-05:00</th>\n",
       "      <td>22.50</td>\n",
       "      <td>tr</td>\n",
       "      <td>bc-115---circunvalar-pereira</td>\n",
       "      <td>BC 115 - Circunvalar Pereira</td>\n",
       "    </tr>\n",
       "    <tr>\n",
       "      <th>2025-03-10 00:00:00-05:00</th>\n",
       "      <td>440.20</td>\n",
       "      <td>area</td>\n",
       "      <td>bc-832---cucuta</td>\n",
       "      <td>BC 832 - San Francisco de Paula</td>\n",
       "    </tr>\n",
       "    <tr>\n",
       "      <th>2025-03-10 00:00:00-05:00</th>\n",
       "      <td>0.58</td>\n",
       "      <td>ilu-consumo-activa</td>\n",
       "      <td>bc-81---avenida-kennedy</td>\n",
       "      <td>BC 81 - Avenida Kennedy</td>\n",
       "    </tr>\n",
       "    <tr>\n",
       "      <th>2025-03-10 00:00:00-05:00</th>\n",
       "      <td>9.08</td>\n",
       "      <td>aa-consumo-activa</td>\n",
       "      <td>bc84t</td>\n",
       "      <td>BC 367 - Granada Meta</td>\n",
       "    </tr>\n",
       "    <tr>\n",
       "      <th>2025-03-10 00:00:00-05:00</th>\n",
       "      <td>0.00</td>\n",
       "      <td>aa-potencia-activa</td>\n",
       "      <td>bc80t</td>\n",
       "      <td>BC 689 - Metropolis</td>\n",
       "    </tr>\n",
       "  </tbody>\n",
       "</table>\n",
       "<p>26525195 rows × 4 columns</p>\n",
       "</div>"
      ],
      "text/plain": [
       "                            value               variable  \\\n",
       "datetime                                                   \n",
       "2023-12-01 00:00:00-05:00    8.00  front-potencia-activa   \n",
       "2023-12-01 00:00:00-05:00  180.18                   area   \n",
       "2023-12-01 00:00:00-05:00    2.10      aa-consumo-activa   \n",
       "2023-12-01 00:00:00-05:00    2.25     aa-potencia-activa   \n",
       "2023-12-01 00:00:00-05:00    2.60  front-potencia-activa   \n",
       "...                           ...                    ...   \n",
       "2025-03-10 00:00:00-05:00   22.50                     tr   \n",
       "2025-03-10 00:00:00-05:00  440.20                   area   \n",
       "2025-03-10 00:00:00-05:00    0.58     ilu-consumo-activa   \n",
       "2025-03-10 00:00:00-05:00    9.08      aa-consumo-activa   \n",
       "2025-03-10 00:00:00-05:00    0.00     aa-potencia-activa   \n",
       "\n",
       "                                                 device  \\\n",
       "datetime                                                  \n",
       "2023-12-01 00:00:00-05:00                         bc84t   \n",
       "2023-12-01 00:00:00-05:00                         bc89t   \n",
       "2023-12-01 00:00:00-05:00                         bc88t   \n",
       "2023-12-01 00:00:00-05:00                         bc88t   \n",
       "2023-12-01 00:00:00-05:00                         bc85t   \n",
       "...                                                 ...   \n",
       "2025-03-10 00:00:00-05:00  bc-115---circunvalar-pereira   \n",
       "2025-03-10 00:00:00-05:00               bc-832---cucuta   \n",
       "2025-03-10 00:00:00-05:00       bc-81---avenida-kennedy   \n",
       "2025-03-10 00:00:00-05:00                         bc84t   \n",
       "2025-03-10 00:00:00-05:00                         bc80t   \n",
       "\n",
       "                                               device_name  \n",
       "datetime                                                    \n",
       "2023-12-01 00:00:00-05:00            BC 367 - Granada Meta  \n",
       "2023-12-01 00:00:00-05:00                BC 384 - Anapoima  \n",
       "2023-12-01 00:00:00-05:00               BC 332 - Zipaquira  \n",
       "2023-12-01 00:00:00-05:00               BC 332 - Zipaquira  \n",
       "2023-12-01 00:00:00-05:00            BC 802 - Puerto Lopez  \n",
       "...                                                    ...  \n",
       "2025-03-10 00:00:00-05:00     BC 115 - Circunvalar Pereira  \n",
       "2025-03-10 00:00:00-05:00  BC 832 - San Francisco de Paula  \n",
       "2025-03-10 00:00:00-05:00          BC 81 - Avenida Kennedy  \n",
       "2025-03-10 00:00:00-05:00            BC 367 - Granada Meta  \n",
       "2025-03-10 00:00:00-05:00              BC 689 - Metropolis  \n",
       "\n",
       "[26525195 rows x 4 columns]"
      ]
     },
     "execution_count": 31,
     "metadata": {},
     "output_type": "execute_result"
    }
   ],
   "source": [
    "df.sort_index()"
   ]
  },
  {
   "cell_type": "code",
   "execution_count": 32,
   "metadata": {},
   "outputs": [
    {
     "data": {
      "text/plain": [
       "DatetimeIndex(['2025-01-07 00:00:00-05:00', '2025-01-06 23:57:00-05:00',\n",
       "               '2025-01-06 23:54:00-05:00', '2025-01-06 23:51:00-05:00',\n",
       "               '2025-01-06 23:48:00-05:00', '2025-01-06 23:45:00-05:00',\n",
       "               '2025-01-06 23:42:00-05:00', '2025-01-06 23:39:00-05:00',\n",
       "               '2025-01-06 23:36:00-05:00', '2025-01-06 23:33:00-05:00',\n",
       "               ...\n",
       "               '2025-01-27 01:05:00-05:00', '2025-01-27 00:55:00-05:00',\n",
       "               '2025-01-27 00:50:00-05:00', '2025-01-27 00:40:00-05:00',\n",
       "               '2025-01-27 00:35:00-05:00', '2025-01-27 00:25:00-05:00',\n",
       "               '2025-01-27 00:20:00-05:00', '2025-01-27 00:10:00-05:00',\n",
       "               '2025-01-27 00:05:00-05:00', '2025-01-28 16:57:01-05:00'],\n",
       "              dtype='datetime64[ns, America/Bogota]', name='datetime', length=24491, freq=None)"
      ]
     },
     "execution_count": 32,
     "metadata": {},
     "output_type": "execute_result"
    }
   ],
   "source": [
    "df.index[(df.index.month == 1)&(df.index.year == 2025)].unique()"
   ]
  },
  {
   "cell_type": "code",
   "execution_count": null,
   "metadata": {},
   "outputs": [],
   "source": []
  }
 ],
 "metadata": {
  "kernelspec": {
   "display_name": "bancolombia",
   "language": "python",
   "name": "python3"
  },
  "language_info": {
   "codemirror_mode": {
    "name": "ipython",
    "version": 3
   },
   "file_extension": ".py",
   "mimetype": "text/x-python",
   "name": "python",
   "nbconvert_exporter": "python",
   "pygments_lexer": "ipython3",
   "version": "3.9.18"
  },
  "orig_nbformat": 4
 },
 "nbformat": 4,
 "nbformat_minor": 2
}
