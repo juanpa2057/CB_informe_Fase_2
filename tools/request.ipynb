{
 "cells": [
  {
   "cell_type": "code",
   "execution_count": 1,
   "metadata": {},
   "outputs": [],
   "source": [
    "# this cell enables relative path imports\n",
    "import os\n",
    "from dotenv import load_dotenv\n",
    "import pickle\n",
    "load_dotenv()\n",
    "_PROJECT_PATH: str = os.environ[\"_project_path\"]\n",
    "_PICKLED_DATA_FILENAME: str = os.environ[\"_pickled_data_filename\"]\n",
    "_CSV_DATA_FILENAME: str = os.environ[\"_csv_data_filename\"]\n",
    "\n",
    "\n",
    "\n",
    "import sys\n",
    "from pathlib import Path\n",
    "project_path = Path(_PROJECT_PATH)\n",
    "sys.path.append(str(project_path))"
   ]
  },
  {
   "cell_type": "code",
   "execution_count": 2,
   "metadata": {},
   "outputs": [
    {
     "name": "stdout",
     "output_type": "stream",
     "text": [
      "Baseline en config_v2.py: ['2023-12-01', '2024-02-26']\n",
      "Study en config_v2.py: ['2024-02-26', '2024-03-04']\n"
     ]
    }
   ],
   "source": [
    "# import all your modules here\n",
    "import time\n",
    "import json\n",
    "import pandas as pd\n",
    "\n",
    "import config_v2 as cfg\n",
    "from library_ubidots_v2 import Ubidots as ubi"
   ]
  },
  {
   "cell_type": "code",
   "execution_count": 3,
   "metadata": {},
   "outputs": [],
   "source": [
    "#blob_name = r\"data/data_weekly_report.pkl\"\n",
    "#downloader.upload_pkl_file(bancolombia_pkl,blob_name, blob_container)"
   ]
  },
  {
   "cell_type": "code",
   "execution_count": 4,
   "metadata": {},
   "outputs": [],
   "source": [
    "# set your constants here\n",
    "baseline=cfg.BASELINE\n",
    "study=cfg.STUDY"
   ]
  },
  {
   "cell_type": "code",
   "execution_count": 5,
   "metadata": {},
   "outputs": [
    {
     "name": "stdout",
     "output_type": "stream",
     "text": [
      "['2024-02-26', '2024-03-04']\n",
      "['2023-12-01', '2024-02-26']\n"
     ]
    }
   ],
   "source": [
    "print(study)\n",
    "print(baseline)"
   ]
  },
  {
   "cell_type": "code",
   "execution_count": 6,
   "metadata": {},
   "outputs": [],
   "source": [
    "df_devices = ubi.get_available_devices_v2(label='bancolombia-f2', level='group', page_size=1000)\n",
    "df_vars = ubi.get_available_variables(list(df_devices['device_id']))"
   ]
  },
  {
   "cell_type": "code",
   "execution_count": 7,
   "metadata": {},
   "outputs": [],
   "source": [
    "df_vars = df_vars[df_vars['variable_label'].isin(cfg.WHITELISTED_VAR_LABELS)]\n",
    "VAR_IDS_TO_REQUEST = list(df_vars['variable_id'])\n",
    "VAR_ID_TO_LABEL = dict(zip(df_vars['variable_id'], df_vars['variable_label']))"
   ]
  },
  {
   "cell_type": "code",
   "execution_count": 8,
   "metadata": {},
   "outputs": [],
   "source": [
    "#leer el archivo data_weekly_report.pkl y guardarlo en un dataframe llamado df1\n",
    "# df1 = pd.read_pickle(r'C:\\Users\\jpocampo\\OneDrive - CELSIA S.A E.S.P\\Escritorio\\Informe_Bancolombia\\CB_informes_Ubi\\Informe_semanal_v2\\data\\data_weekly_report.pkl')\n"
   ]
  },
  {
   "cell_type": "code",
   "execution_count": 9,
   "metadata": {},
   "outputs": [
    {
     "name": "stdout",
     "output_type": "stream",
     "text": [
      "Making request for the following interval: Study:2023-12-01, Study:2024-03-04\n",
      "Progress: 16.2%\n",
      "Response status code: 200\n",
      "Progress: 30.9%\n",
      "Response status code: 200\n",
      "Progress: 45.6%\n",
      "Response status code: 200\n",
      "Progress: 60.3%\n",
      "Response status code: 200\n",
      "Progress: 75.0%\n",
      "Response status code: 200\n",
      "Progress: 89.7%\n",
      "Response status code: 200\n",
      "Progress: 100.0%\n",
      "Response status code: 200\n"
     ]
    }
   ],
   "source": [
    "CHUNK_SIZE = 10\n",
    "DATE_INTERVAL_REQUEST = {'start': baseline[0], 'end': study[1]}\n",
    "df = None\n",
    "lst_responses = []\n",
    "n_vars = len(VAR_IDS_TO_REQUEST)\n",
    "print(f\"Making request for the following interval: Study:{baseline[0]}, Study:{study[1]}\")\n",
    "for idx in range(0, ubi.ceildiv(len(VAR_IDS_TO_REQUEST), CHUNK_SIZE)):\n",
    "    idx_start = idx * CHUNK_SIZE\n",
    "    idx_end = (idx + 1) * CHUNK_SIZE\n",
    "    chunk = VAR_IDS_TO_REQUEST[idx_start:idx_end]\n",
    "    response = ubi.make_request(\n",
    "        chunk, \n",
    "        DATE_INTERVAL_REQUEST, \n",
    "    )\n",
    "    if response.status_code == 204 or response.status_code >= 500:\n",
    "        print(f\"Empty response for chunk {idx}\")\n",
    "        time.sleep(10)\n",
    "        response = ubi.make_request(\n",
    "        chunk, \n",
    "        DATE_INTERVAL_REQUEST,)\n",
    "    current_idx = idx_end+1\n",
    "    if (current_idx > n_vars):\n",
    "        current_idx = n_vars\n",
    "    print(f\"Progress: {100*(current_idx)/n_vars:0.1f}%\")\n",
    "    print(f\"Response status code: {response.status_code}\")\n",
    "    if (response.status_code != 204) and  (len(response.json()['results']) >0 ):\n",
    "        lst_responses.append(response)\n",
    "    else: \n",
    "        print(f\"Empty response for chunk {idx}\")\n",
    "df = ubi.parse_response(lst_responses, VAR_ID_TO_LABEL)"
   ]
  },
  {
   "cell_type": "code",
   "execution_count": 10,
   "metadata": {},
   "outputs": [],
   "source": [
    "#Unir el dataframe df y df1 en uno que se llame df_full / esto es para mas adelante\n",
    "#df = pd.concat([df1, df], axis=0, ignore_index=False)\n",
    "\n",
    "# para quitar el indixe de \"datatime\" y volverlo columna \n",
    "#df.reset_index(inplace=True)\n",
    "\n",
    "# Quitar duplicados \n",
    "#df = df.drop_duplicates()\n",
    "\n",
    "# Establecer la columna \"datetime\" como el índice\n",
    "#df.set_index('datetime', inplace=True)\n"
   ]
  },
  {
   "cell_type": "code",
   "execution_count": 11,
   "metadata": {},
   "outputs": [],
   "source": [
    "pd.to_pickle(df, project_path / 'data'/ _PICKLED_DATA_FILENAME)"
   ]
  }
 ],
 "metadata": {
  "kernelspec": {
   "display_name": "nuevo2-env",
   "language": "python",
   "name": "python3"
  },
  "language_info": {
   "codemirror_mode": {
    "name": "ipython",
    "version": 3
   },
   "file_extension": ".py",
   "mimetype": "text/x-python",
   "name": "python",
   "nbconvert_exporter": "python",
   "pygments_lexer": "ipython3",
   "version": "3.9.16"
  },
  "orig_nbformat": 4,
  "vscode": {
   "interpreter": {
    "hash": "a3ed1408207adb65ea76cc73f6a4a844ab927e5dee5cd8790bd3d1eac84bb653"
   }
  }
 },
 "nbformat": 4,
 "nbformat_minor": 2
}
