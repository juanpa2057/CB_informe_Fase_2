{
 "cells": [
  {
   "cell_type": "code",
   "execution_count": 1,
   "metadata": {},
   "outputs": [],
   "source": [
    "# this cell enables relative path imports\n",
    "import os\n",
    "from dotenv import load_dotenv\n",
    "load_dotenv()\n",
    "_PROJECT_PATH: str = os.environ[\"_project_path\"]\n",
    "_PICKLED_DATA_FILENAME: str = os.environ[\"_pickled_data_filename\"]\n",
    "\n",
    "import sys\n",
    "from pathlib import Path\n",
    "project_path = Path(_PROJECT_PATH)\n",
    "sys.path.append(str(project_path))"
   ]
  },
  {
   "cell_type": "code",
   "execution_count": 2,
   "metadata": {},
   "outputs": [
    {
     "name": "stdout",
     "output_type": "stream",
     "text": [
      "Baseline en config_v2.py: ['2025-03-01', '2025-08-18']\n",
      "Study en config_v2.py: ['2025-08-18', '2025-08-25']\n"
     ]
    }
   ],
   "source": [
    "# import all your modules here\n",
    "import pandas as pd\n",
    "import nbformat as nbf\n",
    "\n",
    "import config_v2 as cfg\n",
    "from library_report_v2 import Processing as pro"
   ]
  },
  {
   "cell_type": "code",
   "execution_count": null,
   "metadata": {},
   "outputs": [],
   "source": []
  },
  {
   "cell_type": "code",
   "execution_count": null,
   "metadata": {},
   "outputs": [],
   "source": []
  },
  {
   "cell_type": "code",
   "execution_count": 3,
   "metadata": {},
   "outputs": [],
   "source": [
    "df = pd.read_pickle(project_path / 'data' / _PICKLED_DATA_FILENAME)\n",
    "df_bl, df_st = pro.split_into_baseline_and_study(df, baseline=cfg.BASELINE, study=cfg.STUDY, inclusive='both')"
   ]
  },
  {
   "cell_type": "code",
   "execution_count": 4,
   "metadata": {},
   "outputs": [],
   "source": [
    "#datos_csv = pd.DataFrame(df)\n",
    "#datos_csv.to_csv(r'C:\\Users\\jpocampo\\Desktop\\Infome_Semanal_bc\\CB_informes_Ubi\\Informe_semanal_v2\\data\\datos_informe_3_semana_julio.csv', index=True)"
   ]
  },
  {
   "cell_type": "code",
   "execution_count": 5,
   "metadata": {},
   "outputs": [],
   "source": [
    "set_devices_bl = set(df_bl['device_name'])\n",
    "set_devices_st = set(df_st['device_name'])\n",
    "\n",
    "set_devices = set_devices_bl.intersection(set_devices_st)\n",
    "\n",
    "df_bl = None\n",
    "df_st = None\n",
    "df = None\n",
    "\n",
    "blueprint_filepath = project_path / 'tools' / 'modelo.ipynb'\n",
    "nb_blueprint = nbf.read(blueprint_filepath, as_version=4)"
   ]
  },
  {
   "cell_type": "code",
   "execution_count": 6,
   "metadata": {},
   "outputs": [],
   "source": [
    "df_notebooks = pd.DataFrame(set_devices, columns=['device'])"
   ]
  },
  {
   "cell_type": "code",
   "execution_count": 7,
   "metadata": {},
   "outputs": [],
   "source": [
    "df_notebooks['code'] = df_notebooks['device'].str.split('-',expand=True)[0]\n",
    "\n",
    "df_notebooks['number'] = df_notebooks['code'].str.strip('BC ')\n",
    "df_notebooks['number'] = pd.to_numeric(df_notebooks['number'], errors='coerce')\n",
    "\n",
    "df_notebooks = df_notebooks.sort_values(by='number')\n",
    "sorted_devices = list(df_notebooks['device'])"
   ]
  },
  {
   "cell_type": "code",
   "execution_count": 8,
   "metadata": {},
   "outputs": [
    {
     "name": "stdout",
     "output_type": "stream",
     "text": [
      "  - file: notebooks/individual/Notebook BC 43 - Puente Aranda\n",
      "  - file: notebooks/individual/Notebook BC 57 - Villavicencio Principal\n",
      "  - file: notebooks/individual/Notebook BC 68 - Ibague\n",
      "  - file: notebooks/individual/Notebook BC 73 - Pereira\n",
      "  - file: notebooks/individual/Notebook BC 79 - La Quinta Ibague\n",
      "  - file: notebooks/individual/Notebook BC 81 - Avenida Kennedy\n",
      "  - file: notebooks/individual/Notebook BC 83 - Miramar\n",
      "  - file: notebooks/individual/Notebook BC 111 - Corozal\n",
      "  - file: notebooks/individual/Notebook BC 115 - Circunvalar Pereira\n",
      "  - file: notebooks/individual/Notebook BC 138 - Mosquera\n",
      "  - file: notebooks/individual/Notebook BC 221 - Soacha\n",
      "  - file: notebooks/individual/Notebook BC 265 - Valle de Lili\n",
      "  - file: notebooks/individual/Notebook BC 322 - San Gil\n",
      "  - file: notebooks/individual/Notebook BC 325 - Santuario\n",
      "  - file: notebooks/individual/Notebook BC 332 - Zipaquira\n",
      "  - file: notebooks/individual/Notebook BC 334 - El Peñol\n",
      "  - file: notebooks/individual/Notebook BC 367 - Granada Meta\n",
      "  - file: notebooks/individual/Notebook BC 384 - Anapoima\n",
      "  - file: notebooks/individual/Notebook BC 385 - Villeta\n",
      "  - file: notebooks/individual/Notebook BC 388 - CC Hayuelos\n",
      "  - file: notebooks/individual/Notebook BC 461 - La carolina Unicentro\n",
      "  - file: notebooks/individual/Notebook BC 478 - Mix Vía 40\n",
      "  - file: notebooks/individual/Notebook BC 479 - Pamplona\n",
      "  - file: notebooks/individual/Notebook BC 513 - El Dificil\n",
      "  - file: notebooks/individual/Notebook BC 516 - Santa Marta\n",
      "  - file: notebooks/individual/Notebook BC 517 - El Rodadero\n",
      "  - file: notebooks/individual/Notebook BC 554 - Mall Plaza Buenavista\n",
      "  - file: notebooks/individual/Notebook BC 583 - Riosucio\n",
      "  - file: notebooks/individual/Notebook BC 602 - UGI\n",
      "  - file: notebooks/individual/Notebook BC 619 - Plaza del Bosque Ibague\n",
      "  - file: notebooks/individual/Notebook BC 673 - Calle 80\n",
      "  - file: notebooks/individual/Notebook BC 681 - Cerete\n",
      "  - file: notebooks/individual/Notebook BC  687 - Planeta Rica\n",
      "  - file: notebooks/individual/Notebook BC 689 - Metropolis\n",
      "  - file: notebooks/individual/Notebook BC 733 - La Unión Valle\n",
      "  - file: notebooks/individual/Notebook BC 772 - Caicedonia\n",
      "  - file: notebooks/individual/Notebook BC 775 - Bulevar 54\n",
      "  - file: notebooks/individual/Notebook BC 777 - Parque Washington\n",
      "  - file: notebooks/individual/Notebook BC 781 - Prado Plaza\n",
      "  - file: notebooks/individual/Notebook BC 795 - Cañaveral\n",
      "  - file: notebooks/individual/Notebook BC 802 - Puerto Lopez\n",
      "  - file: notebooks/individual/Notebook BC 832 - San Francisco de Paula\n",
      "  - file: notebooks/individual/Notebook BC 892 - La Vega\n",
      "  - file: notebooks/individual/Notebook BC - Jardin Plaza\n",
      "  - file: notebooks/individual/Notebook BC - Metropolitan\n"
     ]
    }
   ],
   "source": [
    "for device_name in sorted_devices:\n",
    "    nb = nb_blueprint.copy()\n",
    "    nb_cells = nb['cells']\n",
    "    cell_0 = nb_cells[0]\n",
    "    cell_1 = nb_cells[1]\n",
    "    cell_rest = nb_cells[2:]\n",
    "\n",
    "    cell_0['source'] = f'# {device_name}'\n",
    "    cell_1['source'] = f'DEVICE_NAME = \\'{device_name}\\'\\nimport warnings\\nwarnings.filterwarnings(\"ignore\")'\n",
    "    new_cells = [cell_0] + [cell_1] + cell_rest\n",
    "    nb['cells'] = new_cells\n",
    "\n",
    "    filename = f\"Notebook {device_name}\"\n",
    "    write_path = project_path/'main'/'notebooks'/'individual'/f\"{filename}.ipynb\"\n",
    "    nbf.write(nb, write_path)\n",
    "\n",
    "    print(f\"  - file: notebooks/individual/{filename}\")\n"
   ]
  },
  {
   "cell_type": "code",
   "execution_count": null,
   "metadata": {},
   "outputs": [],
   "source": []
  }
 ],
 "metadata": {
  "kernelspec": {
   "display_name": "bancolombia",
   "language": "python",
   "name": "python3"
  },
  "language_info": {
   "codemirror_mode": {
    "name": "ipython",
    "version": 3
   },
   "file_extension": ".py",
   "mimetype": "text/x-python",
   "name": "python",
   "nbconvert_exporter": "python",
   "pygments_lexer": "ipython3",
   "version": "3.9.18"
  },
  "orig_nbformat": 4
 },
 "nbformat": 4,
 "nbformat_minor": 2
}
