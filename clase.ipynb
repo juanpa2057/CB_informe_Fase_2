{
 "cells": [
  {
   "cell_type": "code",
   "execution_count": 1,
   "metadata": {},
   "outputs": [],
   "source": [
    "import numpy as np\n",
    "import json"
   ]
  },
  {
   "cell_type": "code",
   "execution_count": 2,
   "metadata": {},
   "outputs": [
    {
     "name": "stdout",
     "output_type": "stream",
     "text": [
      "{'a': 1, 'b': 2, 'c': 3, 'd': 4, 'e': 5, 'f': 6, 'g': 7, 'h': 8, 'i': 9, 'j': 10, 'k': 11, 'l': 12, 'm': 13, 'n': 14, 'o': 15, 'p': 16, 'q': 17, 'r': 18, 's': 19, 't': 20, 'u': 21, 'v': 22, 'w': 23, 'x': 24, 'y': 25, 'z': 26, ' ': 27}\n"
     ]
    }
   ],
   "source": [
    "#Diccionario con valores Ascii para cada letra\n",
    "dic = {}\n",
    "valor_inicial = ord('a')\n",
    " \n",
    "#Llenar el diccionario con las lestras y valores consecutivos\n",
    " \n",
    "for i in range(26):\n",
    "    letra = chr(valor_inicial + i) #Obtener la letra correspondiente al valor ascii\n",
    "    dic[letra] = i + 1 #Asignar el valor correspondiente a la letra\n",
    " \n",
    "dic[' '] = 27 #Asignar el valor correspondiente al espacio\n",
    "print(dic)"
   ]
  },
  {
   "cell_type": "code",
   "execution_count": 3,
   "metadata": {},
   "outputs": [
    {
     "ename": "KeyError",
     "evalue": "'I'",
     "output_type": "error",
     "traceback": [
      "\u001b[1;31m---------------------------------------------------------------------------\u001b[0m",
      "\u001b[1;31mKeyError\u001b[0m                                  Traceback (most recent call last)",
      "Cell \u001b[1;32mIn[3], line 16\u001b[0m\n\u001b[0;32m     13\u001b[0m x \u001b[38;5;241m=\u001b[39m []\n\u001b[0;32m     15\u001b[0m \u001b[38;5;28;01mfor\u001b[39;00m i \u001b[38;5;129;01min\u001b[39;00m M:\n\u001b[1;32m---> 16\u001b[0m     x\u001b[38;5;241m.\u001b[39mappend(\u001b[43mdic\u001b[49m\u001b[43m[\u001b[49m\u001b[43mi\u001b[49m\u001b[43m]\u001b[49m)\n\u001b[0;32m     18\u001b[0m \u001b[38;5;66;03m# Llenar los caracteres faltantes para que la longitud de Z sea divisible por 5, por espacios\u001b[39;00m\n\u001b[0;32m     20\u001b[0m \u001b[38;5;28;01mfor\u001b[39;00m i \u001b[38;5;129;01min\u001b[39;00m \u001b[38;5;28mrange\u001b[39m(\u001b[38;5;28mlen\u001b[39m(ME)\u001b[38;5;241m-\u001b[39m \u001b[38;5;28mlen\u001b[39m(x)\u001b[38;5;241m%\u001b[39m\u001b[38;5;28mlen\u001b[39m(ME)):\n",
      "\u001b[1;31mKeyError\u001b[0m: 'I'"
     ]
    }
   ],
   "source": [
    "# Matriz de encriptación\n",
    " \n",
    "ME = np.load('ME.npy')\n",
    " \n",
    "#Inversa de la matriz de encriptación\n",
    " \n",
    "IEM = np.linalg.inv(ME)\n",
    " \n",
    "M = \"Inserte el mensaje\"\n",
    " \n",
    "# Mapear valores de la cadena de texto a valores numericos segun el diccionario\n",
    " \n",
    "x = []\n",
    " \n",
    "for i in M:\n",
    "    x.append(dic[i])\n",
    " \n",
    "# Llenar los caracteres faltantes para que la longitud de Z sea divisible por 5, por espacios\n",
    " \n",
    "for i in range(len(ME)- len(x)%len(ME)):\n",
    "    x.append(dic[' '])\n",
    " \n",
    "#Convertir la lista a un array de numpy\n",
    "Z = np.array(x)\n",
    " \n",
    "#Ajustar el tamaño de X para poder multiplicarlo por la matriz de encriptación\n",
    "Filas = len(ME)\n",
    "Columnas = int(len(Z)/Filas)\n",
    "X = np.reshape(Z, (Filas, Columnas)) # Convert the order parameter to a string\n",
    "print(X)"
   ]
  }
 ],
 "metadata": {
  "kernelspec": {
   "display_name": "nuevo2-env",
   "language": "python",
   "name": "python3"
  },
  "language_info": {
   "codemirror_mode": {
    "name": "ipython",
    "version": 3
   },
   "file_extension": ".py",
   "mimetype": "text/x-python",
   "name": "python",
   "nbconvert_exporter": "python",
   "pygments_lexer": "ipython3",
   "version": "3.9.16"
  }
 },
 "nbformat": 4,
 "nbformat_minor": 2
}
