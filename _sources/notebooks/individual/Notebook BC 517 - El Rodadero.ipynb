{
 "cells": [
  {
   "attachments": {},
   "cell_type": "markdown",
   "metadata": {
    "tags": []
   },
   "source": [
    "# BC 517 - El Rodadero"
   ]
  },
  {
   "cell_type": "code",
   "execution_count": null,
   "metadata": {
    "tags": [
     "remove-cell"
    ]
   },
   "outputs": [],
   "source": [
    "DEVICE_NAME = 'BC 517 - El Rodadero'\n",
    "import warnings\n",
    "warnings.filterwarnings(\"ignore\")"
   ]
  },
  {
   "cell_type": "code",
   "execution_count": null,
   "metadata": {
    "tags": [
     "remove-cell"
    ]
   },
   "outputs": [],
   "source": [
    "import pandas as pd\n",
    "import numpy as np\n",
    "import datetime as dt\n",
    "import json\n",
    "from datetime import datetime\n",
    "\n",
    "import plotly.io as pio\n",
    "import plotly.graph_objects as go\n",
    "import plotly.express as px\n",
    "import warnings\n",
    "warnings.filterwarnings('ignore')\n",
    "\n",
    "pio.renderers.default = \"notebook\"\n",
    "pio.templates.default = \"plotly_white\"\n",
    "\n",
    "\n",
    "# this enables relative path imports\n",
    "import os\n",
    "from dotenv import load_dotenv\n",
    "load_dotenv()\n",
    "_PROJECT_PATH: str = os.environ[\"_project_path\"]\n",
    "_PICKLED_DATA_FILENAME: str = os.environ[\"_pickled_data_filename\"]\n",
    "\n",
    "import sys\n",
    "from pathlib import Path\n",
    "project_path = Path(_PROJECT_PATH)\n",
    "sys.path.append(str(project_path))\n",
    "\n",
    "import config_v2 as cfg\n",
    "\n",
    "from library_report_v2 import Cleaning as cln\n",
    "from library_report_v2 import Graphing as grp\n",
    "from library_report_v2 import Processing as pro\n",
    "from library_report_v2 import Configuration as repcfg"
   ]
  },
  {
   "attachments": {},
   "cell_type": "markdown",
   "metadata": {
    "tags": [
     "remove-cell"
    ]
   },
   "source": [
    "## Functions"
   ]
  },
  {
   "cell_type": "code",
   "execution_count": null,
   "metadata": {
    "tags": [
     "remove-cell"
    ]
   },
   "outputs": [],
   "source": [
    "def show_response_contents(df):\n",
    "    print(\"The response contains:\")\n",
    "    print(json.dumps(list(df['variable'].unique()), sort_keys=True, indent=4))\n",
    "    print(json.dumps(list(df['device'].unique()), sort_keys=True, indent=4))"
   ]
  },
  {
   "attachments": {},
   "cell_type": "markdown",
   "metadata": {
    "tags": [
     "remove-cell"
    ]
   },
   "source": [
    "## Preprocessing"
   ]
  },
  {
   "cell_type": "code",
   "execution_count": null,
   "metadata": {
    "tags": [
     "remove-cell"
    ]
   },
   "outputs": [],
   "source": [
    "df = pd.read_pickle(project_path / 'data' / _PICKLED_DATA_FILENAME)\n",
    "df = df.query(\"device_name == @DEVICE_NAME\")\n",
    "show_response_contents(df)"
   ]
  },
  {
   "cell_type": "code",
   "execution_count": null,
   "metadata": {
    "tags": [
     "remove-cell"
    ]
   },
   "outputs": [],
   "source": [
    "df = df.sort_values(by=['variable','datetime'])\n",
    "df = pro.datetime_attributes(df)\n",
    "\n",
    "df_bl, df_st = pro.split_into_baseline_and_study(df, baseline=cfg.BASELINE, study=cfg.STUDY, inclusive='left')\n",
    "df_bl['Periodo'] = 'Baseline'\n",
    "df_st['Periodo'] = 'Estudio'\n",
    "\n",
    "past_w = df_bl.loc[cfg.PAST_WEEK[0]:cfg.PAST_WEEK[1]]\n",
    "\n",
    "# df_cons = df.query(\"variable == 'front-consumo-activa'\")\n",
    "# df_ea = cln.recover_energy_from_consumption(df_cons, new_varname='front-energia-activa-acumulada')\n",
    "# df_pa_synth = cln.differentiate_single_variable(df_ea, 'front-potencia-activa-sintetica', remove_gap_data=True)\n",
    "# df_ea_interp = cln.linearly_interpolate_series(df_ea, data_rate_in_minutes=None)"
   ]
  },
  {
   "cell_type": "code",
   "execution_count": null,
   "metadata": {
    "tags": [
     "remove-cell"
    ]
   },
   "outputs": [],
   "source": [
    "df_pa = df.query(\"variable == 'front-potencia-activa'\").copy()\n",
    "cargas = df_st[df_st[\"variable\"].isin(cfg.ENERGY_VAR_LABELS)].copy()\n",
    "front = df_st[df_st[\"variable\"].isin(['front-consumo-activa'])].copy()\n",
    "front_reactiva = df_st[df_st[\"variable\"].isin(['consumo-energia-reactiva-total'])].copy()\n",
    "factor_potencia = df_st[df_st[\"variable\"].isin(['factor-de-potencia'])].copy()\n",
    "factor_potencia_bl = df_bl[df_bl[\"variable\"].isin(['factor-de-potencia'])].copy()\n",
    "demanda_aa = df_st[df_st[\"variable\"].isin(['kw-tr'])].copy()\n",
    "demanda_aa_bl = df_bl[df_bl[\"variable\"].isin(['kw-tr'])].copy()\n",
    "\n",
    "front_bl = df_bl[df_bl[\"variable\"].isin(['front-consumo-activa'])].copy()\n",
    "cargas_bl = df_bl[df_bl[\"variable\"].isin(cfg.ENERGY_VAR_LABELS)].copy()\n",
    "cargas_bl['Periodo'] = 'Baseline'\n",
    "cargas['Periodo'] = 'Estudio'\n",
    "\n",
    "\n",
    "Area = df_bl[df_bl[\"variable\"].isin(['area'])].copy().max().values[0]\n",
    "TR = df_bl[df_bl[\"variable\"].isin(['tr'])].copy().max().values[0]\n",
    "\n",
    "\n",
    "front_bl =cln.remove_outliers_by_zscore(front_bl, zscore=4)\n",
    "df_pa = cln.remove_outliers_by_zscore(df_pa, zscore=4)\n",
    "cargas = cln.remove_outliers_by_zscore(cargas, zscore=4)\n",
    "front = cln.remove_outliers_by_zscore(front, zscore=4)\n",
    "front_reactiva = cln.remove_outliers_by_zscore(front, zscore=4)\n",
    "\n",
    "past_w_front = past_w[past_w[\"variable\"].isin(['front-consumo-activa'])].copy()"
   ]
  },
  {
   "cell_type": "code",
   "execution_count": null,
   "metadata": {},
   "outputs": [],
   "source": []
  },
  {
   "cell_type": "code",
   "execution_count": null,
   "metadata": {
    "tags": [
     "remove-cell"
    ]
   },
   "outputs": [],
   "source": [
    "cargas_hour = cargas.groupby(by=[\"variable\"]).resample('1h').sum().round(2).reset_index().set_index('datetime')\n",
    "cargas_hour = pro.datetime_attributes(cargas_hour)\n",
    "\n",
    "cargas_day = cargas.groupby(by=[\"variable\"]).resample('1D').sum().reset_index().set_index('datetime')\n",
    "cargas_day = pro.datetime_attributes(cargas_day)\n",
    "\n",
    "cargas_month = cargas.groupby(by=[\"variable\"]).resample('1M').sum().reset_index().set_index('datetime')\n",
    "cargas_month = pro.datetime_attributes(cargas_month)\n",
    "\n",
    "front_hour = front.groupby(by=[\"variable\"]).resample('1h').sum().round(2).reset_index().set_index('datetime')\n",
    "front_hour = pro.datetime_attributes(front_hour)\n",
    "\n",
    "front_day = front.groupby(by=[\"variable\"]).resample('1D').sum().reset_index().set_index('datetime')\n",
    "front_day = pro.datetime_attributes(front_day)\n",
    "front_day['Periodo'] = 'Estudio'\n",
    "\n",
    "front_day_bl = front_bl.groupby(by=[\"variable\"]).resample('1D').sum().reset_index().set_index('datetime')\n",
    "front_day_bl = pro.datetime_attributes(front_day_bl)\n",
    "front_day_bl['Periodo'] = 'Baseline'\n",
    "\n",
    "front_month = front.groupby(by=[\"variable\"]).resample('1M').sum().reset_index().set_index('datetime')\n",
    "front_month = pro.datetime_attributes(front_month)\n",
    "\n",
    "front_month_pw = past_w_front.groupby(by=[\"variable\"]).resample('1M').sum().reset_index().set_index('datetime')\n",
    "front_month_pw = pro.datetime_attributes(front_month_pw)\n",
    "\n",
    "#front_reactiva_hour = front_reactiva.groupby(by=[\"variable\"]).resample('1h').sum().round(2).reset_index().set_index('datetime')\n",
    "#front_reactiva_hour = pro.datetime_attributes(front_reactiva_hour)\n"
   ]
  },
  {
   "attachments": {},
   "cell_type": "markdown",
   "metadata": {
    "tags": [
     "remove-cell"
    ]
   },
   "source": [
    "## Plots"
   ]
  },
  {
   "cell_type": "code",
   "execution_count": null,
   "metadata": {
    "tags": [
     "remove-cell"
    ]
   },
   "outputs": [],
   "source": [
    "df_concat = pd.concat([cargas_day, front_day])\n",
    "\n",
    "# Crear una columna 'month_day' combinando 'month' y 'day'\n",
    "df_concat['month_day'] = df_concat['month'].astype(str) + '-' + df_concat['day'].astype(str)\n",
    "\n",
    "# Ordenar los datos por la columna 'datetime'\n",
    "df_concat = df_concat.sort_values('datetime')\n",
    "\n",
    "# Agregamos los valores de las dos variables por month_day\n",
    "agg_df = df_concat.groupby(['month_day', 'variable'])['value'].sum().reset_index()"
   ]
  },
  {
   "cell_type": "code",
   "execution_count": null,
   "metadata": {
    "tags": [
     "remove-input"
    ]
   },
   "outputs": [],
   "source": [
    "fig = px.bar(\n",
    "    df_concat,\n",
    "    x=\"month_day\",\n",
    "    y=\"value\",\n",
    "    barmode='group',\n",
    "    color='variable',\n",
    "    color_discrete_sequence=repcfg.FULL_PALETTE,\n",
    "    labels={'month_day':'Mes - Día', 'value':'Consumo [kWh]'},\n",
    "    title=f\"{DEVICE_NAME}: Consumo diario de energía activa [kWh]\",\n",
    ")\n",
    "\n",
    "fig.add_hline(y=front_day_bl['value'].mean(), line_dash=\"dash\", line_color=repcfg.FULL_PALETTE[1], annotation_text=f\"Línea base: {front_day_bl['value'].mean():.2f} kWh/dia\", annotation_position=\"top left\")\n",
    "\n",
    "# Ajustamos la escala y el formato del eje x\n",
    "fig.update_xaxes(\n",
    "    type='category',  # Usar una escala categórica en lugar de fecha\n",
    "    tickvals=list(agg_df['month_day']),  # Valores en el eje x\n",
    "    ticktext=list(agg_df['month_day']),  # Etiquetas en el eje x\n",
    "    title_text='Mes - Día',  # Título del eje x\n",
    ")\n",
    "\n",
    "fig.update_layout(\n",
    "    font_family=repcfg.CELSIA_FONT,\n",
    "    font_size=repcfg.PLOTLY_TITLE_FONT_SIZE,\n",
    "    font_color=repcfg.FULL_PALETTE[1],\n",
    "    title_x=repcfg.PLOTLY_TITLE_X,\n",
    "    width=repcfg.JBOOK_PLOTLY_WIDTH,\n",
    "    height=repcfg.JBOOK_PLOTLY_HEIGHT\n",
    ")\n",
    "\n",
    "fig.show()"
   ]
  },
  {
   "cell_type": "code",
   "execution_count": null,
   "metadata": {
    "tags": [
     "remove-cell"
    ]
   },
   "outputs": [],
   "source": [
    "front_cons_total = front_month[\"value\"].sum()\n",
    "front_cons_pw_total = front_month_pw[\"value\"].sum()\n",
    "\n",
    "dif_mes_anterior = (front_cons_total - front_cons_pw_total) / front_cons_pw_total * 100\n",
    "\n",
    "\"\"\"\n",
    "if front_cons_total - front_cons_pw_total > 0:\n",
    "    print(f\"El consumo de energía de la semana pasada fue {front_cons_total:.0f}kWh, lo que representa un aumento de {abs(front_cons_total - front_cons_pw_total) :.0f} kWh, un {dif_mes_anterior:.0f} % respecto a la semana anterior.\")\n",
    "else:\n",
    "    print(f\"El consumo de energía de la semana pasada fue {front_cons_total:.0f}kWh, lo que representa una disminución de {abs(front_cons_total - front_cons_pw_total) :.0f} kWh, un {dif_mes_anterior:.0f} % respecto a la semana anterior.\")\n",
    "\n",
    "\"\"\"\n"
   ]
  },
  {
   "cell_type": "code",
   "execution_count": null,
   "metadata": {
    "tags": [
     "remove-input"
    ]
   },
   "outputs": [],
   "source": [
    "fig = px.box(\n",
    "    pd.concat([front_day_bl, front_day]),\n",
    "    y=\"value\",\n",
    "    color='Periodo',\n",
    "    color_discrete_sequence=repcfg.FULL_PALETTE,\n",
    "    labels={'day':'Día', 'value':'Consumo [kWh/dia]'},\n",
    "    title=f\"{DEVICE_NAME}: Consumo típico diario\",\n",
    "    \n",
    ")\n",
    "\n",
    "fig.add_hline(y=front_day_bl['value'].mean(), line_dash=\"dash\", line_color=repcfg.FULL_PALETTE[1], annotation_text=f\"Línea base: {front_day_bl['value'].mean():.2f} kWh/dia\", annotation_position=\"top left\")\n",
    "fig.add_hline(y=front_day['value'].mean(), line_dash=\"dash\", line_color=repcfg.FULL_PALETTE[1], annotation_text=f\"Consumo semana : {front_day['value'].mean():.2f} kWh/dia\", annotation_position=\"top right\")\n",
    "\n",
    "\n",
    "fig.update_layout(\n",
    "    font_family=repcfg.CELSIA_FONT,\n",
    "    font_size=repcfg.PLOTLY_TITLE_FONT_SIZE,\n",
    "    font_color=repcfg.FULL_PALETTE[1],\n",
    "    title_x=repcfg.PLOTLY_TITLE_X,\n",
    "    width=repcfg.JBOOK_PLOTLY_WIDTH,\n",
    "    height=repcfg.JBOOK_PLOTLY_HEIGHT\n",
    ")\n",
    "\n",
    "fig.show()\n",
    "\n",
    "\n",
    "if front_day_bl['value'].mean() - front_day['value'].mean() > 0:\n",
    "    \n",
    "    print(f\"Se evidencia una diferencia del consumo promedio diario de {abs(front_day_bl['value'].mean() - front_day['value'].mean()):.2f} kWh/dia, lo que representa un {abs(front_day_bl['value'].mean() - front_day['value'].mean()) / front_day_bl['value'].mean() * 100:.0f} % de disminución respecto a la línea base.\")\n",
    "else:\n",
    "    \n",
    "    print(f\"Se evidencia una diferencia del consumo promedio diario de {abs(front_day_bl['value'].mean() - front_day['value'].mean()):.2f} kWh/dia, lo que representa un {abs(front_day_bl['value'].mean() - front_day['value'].mean()) / front_day_bl['value'].mean() * 100:.0f} % de aumento respecto a la línea base.\")\n"
   ]
  },
  {
   "cell_type": "code",
   "execution_count": null,
   "metadata": {
    "tags": [
     "remove-input"
    ]
   },
   "outputs": [],
   "source": [
    "df_front_cargas = pd.concat([cargas, cargas_bl])\n",
    "\n",
    "front_nighttime_cons = front[front[\"hour\"].isin(cfg.NIGHT_HOURS)].copy()\n",
    "\n",
    "cargas_nighttime_cons = df_front_cargas[df_front_cargas[\"hour\"].isin(cfg.NIGHT_HOURS)].copy()\n",
    "cargas_nighttime_cons = pro.datetime_attributes(cargas_nighttime_cons)\n",
    "\n",
    "cargas_nighttime_cons_bl = cargas_nighttime_cons[cargas_nighttime_cons[\"Periodo\"] == \"Baseline\"].copy()\n",
    "cargas_nighttime_cons_st = cargas_nighttime_cons[cargas_nighttime_cons[\"Periodo\"] == \"Estudio\"].copy()\n",
    "\n",
    "cargas_nighttime_cons_bl_daily = cargas_nighttime_cons_bl.groupby(by=[\"variable\"]).resample('1D').sum().reset_index().set_index('datetime')\n",
    "cargas_nighttime_cons_bl_daily = pro.datetime_attributes(cargas_nighttime_cons_bl_daily)\n",
    "cargas_nighttime_cons_bl_daily['Periodo'] = 'Baseline'\n",
    "\n",
    "cargas_nighttime_cons_st_daily = cargas_nighttime_cons_st.groupby(by=[\"variable\"]).resample('1D').sum().reset_index().set_index('datetime')\n",
    "cargas_nighttime_cons_st_daily = pro.datetime_attributes(cargas_nighttime_cons_st_daily)\n",
    "cargas_nighttime_cons_st_daily['Periodo'] = 'Estudio'\n",
    "\n",
    "\n",
    "# Crear una columna 'month_day' combinando 'month' y 'day'\n",
    "cargas_nighttime_cons_st_daily['month_day'] = cargas_nighttime_cons_st_daily['month'].astype(str) + '-' + cargas_nighttime_cons_st_daily['day'].astype(str)\n",
    "# Ordenar los datos por la columna 'datetime'\n",
    "cargas_nighttime_cons_st_daily = cargas_nighttime_cons_st_daily.sort_values('datetime')\n",
    "# Agregamos los valores de las dos variables por month_day\n",
    "agg_cargas_nighttime_cons_st_daily = cargas_nighttime_cons_st_daily.groupby(['month_day', 'variable'])['value'].sum().reset_index()\n",
    "\n",
    "\n",
    "if (cargas_nighttime_cons_st_daily.shape[0] > 0):\n",
    "    fig = px.bar(\n",
    "        cargas_nighttime_cons_st_daily.reset_index(),\n",
    "        x=\"month_day\",\n",
    "        y=\"value\",\n",
    "        barmode='group',\n",
    "        color_discrete_sequence=repcfg.FULL_PALETTE,\n",
    "        labels={'month_day':'Mes - Día', 'value':'Consumo [kWh]'},\n",
    "        title=f\"{DEVICE_NAME}: Consumo nocturno de energía activa AA/Ilu [kWh/día]\",\n",
    "    )\n",
    "\n",
    "    fig.add_hline(y=cargas_nighttime_cons_bl_daily['value'].mean(), line_dash=\"dash\", line_color=repcfg.FULL_PALETTE[1], annotation_text=f\"Línea base: {cargas_nighttime_cons_bl_daily['value'].mean():.2f} kWh/día\", annotation_position=\"top left\")\n",
    "    fig.add_hline(y=cargas_nighttime_cons_st_daily['value'].mean(), line_dash=\"dash\", line_color=repcfg.FULL_PALETTE[1], annotation_text=f\"Consumo semana : {cargas_nighttime_cons_st_daily['value'].mean():.2f} kWh/dia\", annotation_position=\"top right\")\n",
    "\n",
    "    # Ajustamos la escala y el formato del eje x\n",
    "    fig.update_xaxes(\n",
    "    type='category',  # Usar una escala categórica en lugar de fecha\n",
    "    tickvals=list(agg_cargas_nighttime_cons_st_daily['month_day']),  # Valores en el eje x\n",
    "    ticktext=list(agg_cargas_nighttime_cons_st_daily['month_day']),  # Etiquetas en el eje x\n",
    "    title_text='Mes - Día',  # Título del eje x\n",
    ")\n",
    "\n",
    "\n",
    "    fig.update_layout(\n",
    "        font_family=repcfg.CELSIA_FONT,\n",
    "        font_size=repcfg.PLOTLY_TITLE_FONT_SIZE,\n",
    "        font_color=repcfg.FULL_PALETTE[1],\n",
    "        title_x=repcfg.PLOTLY_TITLE_X,\n",
    "        width=repcfg.JBOOK_PLOTLY_WIDTH,\n",
    "        height=repcfg.JBOOK_PLOTLY_HEIGHT\n",
    "    )\n",
    "\n",
    "    # fig.update_traces(marker_color=grp.hex_to_rgb(repcfg.FULL_PALETTE[0]))\n",
    "    fig.show()\n"
   ]
  },
  {
   "cell_type": "code",
   "execution_count": null,
   "metadata": {
    "tags": [
     "remove-input"
    ]
   },
   "outputs": [],
   "source": [
    "fig = px.box(\n",
    "    pd.concat([cargas_nighttime_cons_st_daily, cargas_nighttime_cons_bl_daily]),\n",
    "    y=\"value\",\n",
    "    color='Periodo',\n",
    "    color_discrete_sequence=repcfg.FULL_PALETTE,\n",
    "    labels={'day':'Día', 'value':'Consumo [kWh/dia]'},\n",
    "    title=f\"{DEVICE_NAME}: Consumo nocturno típico diario\",\n",
    "    \n",
    ")\n",
    "\n",
    "fig.add_hline(y=cargas_nighttime_cons_bl_daily['value'].mean(), line_dash=\"dash\", line_color=repcfg.FULL_PALETTE[1], annotation_text=f\"Línea base: {cargas_nighttime_cons_bl_daily['value'].mean():.2f} kWh/dia\", annotation_position=\"top left\")\n",
    "fig.add_hline(y=cargas_nighttime_cons_st_daily['value'].mean(), line_dash=\"dash\", line_color=repcfg.FULL_PALETTE[1], annotation_text=f\"Consumo semana: {cargas_nighttime_cons_st_daily['value'].mean():.2f} kWh/dia\", annotation_position=\"top right\")\n",
    "\n",
    "fig.update_layout(\n",
    "    font_family=repcfg.CELSIA_FONT,\n",
    "    font_size=repcfg.PLOTLY_TITLE_FONT_SIZE,\n",
    "    font_color=repcfg.FULL_PALETTE[1],\n",
    "    title_x=repcfg.PLOTLY_TITLE_X,\n",
    "    width=repcfg.JBOOK_PLOTLY_WIDTH,\n",
    "    height=repcfg.JBOOK_PLOTLY_HEIGHT\n",
    ")\n",
    "\n"
   ]
  },
  {
   "cell_type": "code",
   "execution_count": null,
   "metadata": {
    "tags": [
     "remove-input"
    ]
   },
   "outputs": [],
   "source": [
    "total_night_cons = front_nighttime_cons.query(\"variable == 'front-consumo-activa'\")\n",
    "consumo_nocturno = total_night_cons[\"value\"].sum()\n",
    "\n",
    "print(f\"Durante la semana pasada se consumió un total de {consumo_nocturno:.0f}kWh fuera del horario establecido.\")"
   ]
  },
  {
   "cell_type": "code",
   "execution_count": null,
   "metadata": {
    "tags": [
     "remove-input"
    ]
   },
   "outputs": [],
   "source": [
    "total_night_cons = front_nighttime_cons.query(\"variable == 'front-consumo-activa'\")\n",
    "consumo_nocturno = total_night_cons[\"value\"].sum()\n",
    "\n",
    "night_cons_percent = 100 * consumo_nocturno / front_cons_total\n",
    "\n",
    "print(f\"El consumo nocturno representó el {night_cons_percent:.1f}% del consumo total\")"
   ]
  },
  {
   "cell_type": "code",
   "execution_count": null,
   "metadata": {
    "tags": [
     "remove-input"
    ]
   },
   "outputs": [],
   "source": [
    "cargas_cons_total = cargas_month['value'].sum()\n",
    "consumo_otros =  front_cons_total - cargas_cons_total\n",
    "\n",
    "if (consumo_otros < 0):\n",
    "    consumo_otros = 0\n",
    "\n",
    "df_pie = cargas_month[['variable','value']].copy()\n",
    "\n",
    "df_pie.loc[-1] = ['otros', consumo_otros]\n",
    "df_pie = df_pie.reset_index(drop=True)\n",
    "df_pie['value'] = df_pie['value'].round(1)\n",
    "\n",
    "\n",
    "if (df_pie.value >= 0).all():\n",
    "    fig = px.pie(\n",
    "        df_pie, \n",
    "        values=\"value\", \n",
    "        names='variable', \n",
    "        hover_data=['value'], \n",
    "        labels={'variable':'Carga', 'value':'Consumo [kWh]'},\n",
    "        title=f\"{DEVICE_NAME}: Consumo total de energía activa por carga [kWh]\",\n",
    "        color_discrete_sequence=repcfg.FULL_PALETTE, \n",
    "    )\n",
    "\n",
    "    fig.update_layout(\n",
    "        font_family=repcfg.CELSIA_FONT,\n",
    "        font_size=repcfg.PLOTLY_TITLE_FONT_SIZE,\n",
    "        font_color=repcfg.FULL_PALETTE[1],\n",
    "        title_x=repcfg.PLOTLY_TITLE_X,\n",
    "        width=repcfg.JBOOK_PLOTLY_WIDTH,\n",
    "        height=repcfg.JBOOK_PLOTLY_HEIGHT\n",
    "    )\n",
    "\n",
    "    fig.update_traces(\n",
    "        textposition='inside', \n",
    "        textinfo='percent', \n",
    "        insidetextorientation='radial'\n",
    "    )\n",
    "\n",
    "    fig.update(\n",
    "        layout_showlegend=True\n",
    "    )\n",
    "\n",
    "    fig.show()"
   ]
  },
  {
   "cell_type": "code",
   "execution_count": null,
   "metadata": {
    "tags": [
     "remove-input"
    ]
   },
   "outputs": [],
   "source": [
    "df_plot = pd.concat([front_hour, cargas_hour])\n",
    "\n",
    "list_vars = [\n",
    "    'front-consumo-activa',\n",
    "    'aa-consumo-activa',\n",
    "    'ilu-consumo-activa'\n",
    "]\n",
    "\n",
    "alpha = 0.75\n",
    "fig = go.Figure()\n",
    "hex_color_primary = repcfg.FULL_PALETTE[0]\n",
    "hex_color_secondary = repcfg.FULL_PALETTE[1]\n",
    "\n",
    "idx = 0\n",
    "for variable in list_vars:\n",
    "    df_var = df_plot.query(\"variable == @variable\")\n",
    "    hex_color = repcfg.FULL_PALETTE[idx % len(repcfg.FULL_PALETTE)]\n",
    "    rgba_color = grp.hex_to_rgb(hex_color, alpha)\n",
    "    idx += 1\n",
    "\n",
    "    if (len(df_var) > 0):\n",
    "        fig.add_trace(go.Scatter(\n",
    "            x=df_var.index,\n",
    "            y=df_var.value,\n",
    "            line_color=rgba_color,\n",
    "            name=variable,\n",
    "            showlegend=True,\n",
    "        ))\n",
    "\n",
    "\n",
    "\n",
    "fig.update_layout(\n",
    "    title=f\"{DEVICE_NAME}: Consumo de energía activa [kWh]\",\n",
    "    font_family=repcfg.CELSIA_FONT,\n",
    "    font_size=repcfg.PLOTLY_TITLE_FONT_SIZE,\n",
    "    font_color=repcfg.FULL_PALETTE[1],\n",
    "    title_x=repcfg.PLOTLY_TITLE_X,\n",
    "    width=repcfg.JBOOK_PLOTLY_WIDTH,\n",
    "    height=repcfg.JBOOK_PLOTLY_HEIGHT,\n",
    "    yaxis=dict(title_text=\"Consumo Activa [kWh]\")\n",
    ")\n",
    "\n",
    "fig.update_traces(mode='lines')\n",
    "# fig.update_xaxes(rangemode=\"tozero\")\n",
    "fig.update_yaxes(rangemode=\"tozero\")\n",
    "fig.show()\n"
   ]
  },
  {
   "cell_type": "code",
   "execution_count": null,
   "metadata": {
    "tags": [
     "remove-input"
    ]
   },
   "outputs": [],
   "source": [
    "df_pa_bl, df_pa_st = pro.split_into_baseline_and_study(df_pa, baseline=cfg.BASELINE, study=cfg.STUDY, inclusive='both')\n",
    "\n",
    "if (len(df_pa_bl) > 0) & (len(df_pa_st) > 0):\n",
    "    df_pa_bl_day = (\n",
    "        df_pa_bl\n",
    "        .reset_index()\n",
    "        .groupby(['device_name','variable','hour'])['value']\n",
    "        .agg(['median','mean','std','min',pro.q_low,pro.q_high,'max','count'])\n",
    "        .reset_index()\n",
    "    )\n",
    "\n",
    "    df_pa_st_day = (\n",
    "        df_pa_st\n",
    "        .reset_index()\n",
    "        .groupby(['device_name','variable','hour'])['value']\n",
    "        .agg(['median','mean','std','min',pro.q_low,pro.q_high,'max','count'])\n",
    "        .reset_index()\n",
    "    )\n",
    "\n",
    "    grp.compare_baseline_day_by_hour(\n",
    "        df_pa_bl_day,\n",
    "        df_pa_st_day,\n",
    "        title=f\"{DEVICE_NAME}: Día típico\",\n",
    "        bl_label=\"Promedio línea base\",\n",
    "        st_label=\"Promedio semanal\",\n",
    "        bl_ci_label=\"Intervalo línea base\",\n",
    "        include_ci=True,\n",
    "        fill_ci=True\n",
    "    )\n",
    "\n",
    "\n",
    "    df_pa_bl_week = (\n",
    "        df_pa_bl\n",
    "        .reset_index()\n",
    "        .groupby(['device_name','variable','cont_dow'])['value']\n",
    "        .agg(['median','mean','std','min',pro.q_low,pro.q_high,'max','count'])\n",
    "        .reset_index()\n",
    "    )\n",
    "\n",
    "    df_pa_st_week = (\n",
    "        df_pa_st\n",
    "        .reset_index()\n",
    "        .groupby(['device_name','variable','cont_dow'])['value']\n",
    "        .agg(['median','mean','std','min',pro.q_low,pro.q_high,'max','count'])\n",
    "        .reset_index()\n",
    "    )\n",
    "\n",
    "    grp.compare_baseline_week_by_day(\n",
    "        df_pa_bl_week,\n",
    "        df_pa_st_week,\n",
    "        title=f\"{DEVICE_NAME}: Semana típica\",\n",
    "        bl_label=\"Promedio línea base\",\n",
    "        st_label=\"Promedio semanal\",\n",
    "        bl_ci_label=\"Intervalo línea base\",\n",
    "        include_ci=True,\n",
    "        fill_ci=True\n",
    "    )"
   ]
  },
  {
   "cell_type": "code",
   "execution_count": null,
   "metadata": {
    "tags": [
     "remove-input"
    ]
   },
   "outputs": [],
   "source": [
    "fig = px.box(\n",
    "    pd.concat([factor_potencia, factor_potencia_bl]),\n",
    "    y=\"value\",\n",
    "    color='Periodo',\n",
    "    color_discrete_sequence=repcfg.FULL_PALETTE,\n",
    "    labels={'day':'Día', 'value':'Factor de potencia'},\n",
    "    title=f\"{DEVICE_NAME}: Factor de potencia\",\n",
    "    \n",
    ")\n",
    "\n",
    "\n",
    "fig.add_hline(y=factor_potencia['value'].mean(), line_dash=\"dash\", line_color=repcfg.FULL_PALETTE[1], annotation_text=f\"Consumo semana: {factor_potencia['value'].mean():.2f}\", annotation_position=\"top right\")\n",
    "\n",
    "\n",
    "fig.update_layout(\n",
    "    font_family=repcfg.CELSIA_FONT,\n",
    "    font_size=repcfg.PLOTLY_TITLE_FONT_SIZE,\n",
    "    font_color=repcfg.FULL_PALETTE[1],\n",
    "    title_x=repcfg.PLOTLY_TITLE_X,\n",
    "    width=repcfg.JBOOK_PLOTLY_WIDTH,\n",
    "    height=repcfg.JBOOK_PLOTLY_HEIGHT\n",
    ")\n",
    "\n",
    "\n",
    "fig.show()\n",
    "\n",
    "if factor_potencia_bl['value'].mean() > 0.9:\n",
    "    print(f\"Durante la semana pasada, el factor de potencia promedio estuvo en {factor_potencia_bl['value'].mean():.2f}, lo que representa un consumo normal de energía reactiva.\")\n",
    "else:\n",
    "    print(f\"Durante la semana pasada, el factor de potencia promedio estuvo en {factor_potencia_bl['value'].mean():.2f}\")\n",
    "    print(\"lo que representa un consumo alto de energía reactiva, esto podría representar penalidades por parte del comercializador de energía.\")\n"
   ]
  },
  {
   "cell_type": "code",
   "execution_count": null,
   "metadata": {
    "tags": [
     "remove-input"
    ]
   },
   "outputs": [],
   "source": [
    "fig = px.box(\n",
    "    pd.concat([demanda_aa, demanda_aa_bl]),\n",
    "    y=\"value\",\n",
    "    color='Periodo',\n",
    "    color_discrete_sequence=repcfg.FULL_PALETTE,\n",
    "    labels={'day':'Día', 'value':'Demanda [kW/TR]'},\n",
    "    title=f\"{DEVICE_NAME}: Demanda del sistema de AA (kW/TR)\",\n",
    "    \n",
    ")\n",
    "\n",
    "fig.add_hline(y=demanda_aa['value'].mean(), line_dash=\"dash\", line_color=repcfg.FULL_PALETTE[1], annotation_text=f\"Consumo semana: {demanda_aa['value'].mean():.2f}\", annotation_position=\"top right\")\n",
    "\n",
    "\n",
    "fig.update_layout(\n",
    "    font_family=repcfg.CELSIA_FONT,\n",
    "    font_size=repcfg.PLOTLY_TITLE_FONT_SIZE,\n",
    "    font_color=repcfg.FULL_PALETTE[1],\n",
    "    title_x=repcfg.PLOTLY_TITLE_X,\n",
    "    width=repcfg.JBOOK_PLOTLY_WIDTH,\n",
    "    height=repcfg.JBOOK_PLOTLY_HEIGHT\n",
    ")\n",
    "\n",
    "\n",
    "fig.show()\n",
    "\n",
    "print(f\"Durante la semana pasada, la demanda del sistema de AA estuvo en promedio en  {demanda_aa['value'].mean():.2f} kW/TR\")\n",
    "print(f\"lo que representa un factor de uso del {(demanda_aa['value'].mean()/demanda_aa_bl['value'].max())*100:.2f}% respecto a la máxima demanda histórica.\")\n"
   ]
  },
  {
   "cell_type": "code",
   "execution_count": null,
   "metadata": {
    "tags": [
     "remove-input"
    ]
   },
   "outputs": [],
   "source": [
    "# print(f\"El sistema de AA de esta sede fue diseñado pensando en {TR/Area:.2f} TR/m2, por lo que la demanda actual es {(demanda_aa['value'].mean()/(TR/Area)):.2f} veces mayor a la demanda proyectada.\")\n",
    "\n"
   ]
  },
  {
   "cell_type": "code",
   "execution_count": null,
   "metadata": {
    "tags": [
     "remove-input"
    ]
   },
   "outputs": [],
   "source": [
    "consumo_aa = df_st[df_st['variable']=='aa-consumo-activa']\n",
    "consumo_aa_bl = df_bl[df_bl['variable']=='aa-consumo-activa']\n",
    "\n",
    "consumo_aa_box =pd.concat([consumo_aa, consumo_aa_bl])\n",
    "consumo_aa_box_diario =consumo_aa_box.groupby(by=[\"variable\"]).resample('D').sum().round(2).reset_index().set_index('datetime')\n",
    "consumo_aa_box_diario = pro.datetime_attributes(consumo_aa_box_diario)\n",
    "consumo_aa_box_diario_bl, consumo_aa_box_diario_st = pro.split_into_baseline_and_study(consumo_aa_box_diario, baseline=cfg.BASELINE, study=cfg.STUDY, inclusive='both')\n",
    "consumo_aa_box_diario_bl['Periodo'] = 'Baseline'\n",
    "consumo_aa_box_diario_st['Periodo'] = 'Estudio'\n",
    "\n",
    "\n",
    "fig = px.box(\n",
    "    pd.concat([consumo_aa_box_diario_bl, consumo_aa_box_diario_st]),\n",
    "    y=\"value\",\n",
    "    color='Periodo',\n",
    "    color_discrete_sequence=repcfg.FULL_PALETTE,\n",
    "    labels={'day':'Día', 'value':'Consumo [kWh/día]'},\n",
    "    title=f\"{DEVICE_NAME}: Distribución del consumo del sistema de AA (kWh/día)\",\n",
    "    \n",
    ")\n",
    "\n",
    "\n",
    "fig.add_hline(y=consumo_aa_box_diario_st['value'].mean(), line_dash=\"dash\", line_color=repcfg.FULL_PALETTE[1], annotation_text=f\"Consumo semana: {consumo_aa_box_diario_st['value'].mean():.2f}\", annotation_position=\"top right\")\n",
    "fig.add_hline(y=consumo_aa_box_diario_bl['value'].mean(), line_dash=\"dash\", line_color=repcfg.FULL_PALETTE[1], annotation_text=f\"Consumo línea base: {consumo_aa_box_diario_bl['value'].mean():.2f}\", annotation_position=\"top left\")\n",
    "\n",
    "\n",
    "fig.update_layout(\n",
    "    font_family=repcfg.CELSIA_FONT,\n",
    "    font_size=repcfg.PLOTLY_TITLE_FONT_SIZE,\n",
    "    font_color=repcfg.FULL_PALETTE[1],\n",
    "    title_x=repcfg.PLOTLY_TITLE_X,\n",
    "    width=repcfg.JBOOK_PLOTLY_WIDTH,\n",
    "    height=repcfg.JBOOK_PLOTLY_HEIGHT\n",
    ")\n",
    "\n",
    "\n",
    "fig.show()"
   ]
  },
  {
   "cell_type": "code",
   "execution_count": null,
   "metadata": {
    "tags": [
     "remove-input"
    ]
   },
   "outputs": [],
   "source": [
    "print( f\"Esta sede fue diseñada con un sistema de aa de {TR} TR, lo que representa una distribución por área de {TR/Area:.2f} TR/m2.\")"
   ]
  }
 ],
 "metadata": {
  "kernelspec": {
   "display_name": "nuevo2-env",
   "language": "python",
   "name": "python3"
  },
  "language_info": {
   "codemirror_mode": {
    "name": "ipython",
    "version": 3
   },
   "file_extension": ".py",
   "mimetype": "text/x-python",
   "name": "python",
   "nbconvert_exporter": "python",
   "pygments_lexer": "ipython3",
   "version": "3.9.18"
  },
  "vscode": {
   "interpreter": {
    "hash": "a3ed1408207adb65ea76cc73f6a4a844ab927e5dee5cd8790bd3d1eac84bb653"
   }
  }
 },
 "nbformat": 4,
 "nbformat_minor": 4
}
